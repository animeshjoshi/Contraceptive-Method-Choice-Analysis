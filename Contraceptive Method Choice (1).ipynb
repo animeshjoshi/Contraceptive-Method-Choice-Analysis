{
 "cells": [
  {
   "cell_type": "code",
   "execution_count": 140,
   "id": "7c39dcd5",
   "metadata": {},
   "outputs": [],
   "source": [
    "import pandas as pd\n",
    "import numpy as np"
   ]
  },
  {
   "cell_type": "code",
   "execution_count": 141,
   "id": "e2656d69",
   "metadata": {},
   "outputs": [],
   "source": [
    "df = pd.read_csv(\"C:/Users/anime/Downloads/cmc.data\", names = ['Wife Age', 'Wife Education', 'Husband Education', 'Num Children',\n",
    "                                                                'Wife Religion', 'Wife Working', 'Husband Occupation', 'Standard of Living',\n",
    "                                                                'Media Exposure', 'Contraceptive Used'])"
   ]
  },
  {
   "cell_type": "code",
   "execution_count": 142,
   "id": "d9474356",
   "metadata": {},
   "outputs": [
    {
     "data": {
      "text/html": [
       "<div>\n",
       "<style scoped>\n",
       "    .dataframe tbody tr th:only-of-type {\n",
       "        vertical-align: middle;\n",
       "    }\n",
       "\n",
       "    .dataframe tbody tr th {\n",
       "        vertical-align: top;\n",
       "    }\n",
       "\n",
       "    .dataframe thead th {\n",
       "        text-align: right;\n",
       "    }\n",
       "</style>\n",
       "<table border=\"1\" class=\"dataframe\">\n",
       "  <thead>\n",
       "    <tr style=\"text-align: right;\">\n",
       "      <th></th>\n",
       "      <th>Wife Age</th>\n",
       "      <th>Wife Education</th>\n",
       "      <th>Husband Education</th>\n",
       "      <th>Num Children</th>\n",
       "      <th>Wife Religion</th>\n",
       "      <th>Wife Working</th>\n",
       "      <th>Husband Occupation</th>\n",
       "      <th>Standard of Living</th>\n",
       "      <th>Media Exposure</th>\n",
       "      <th>Contraceptive Used</th>\n",
       "    </tr>\n",
       "  </thead>\n",
       "  <tbody>\n",
       "    <tr>\n",
       "      <th>0</th>\n",
       "      <td>24</td>\n",
       "      <td>2</td>\n",
       "      <td>3</td>\n",
       "      <td>3</td>\n",
       "      <td>1</td>\n",
       "      <td>1</td>\n",
       "      <td>2</td>\n",
       "      <td>3</td>\n",
       "      <td>0</td>\n",
       "      <td>1</td>\n",
       "    </tr>\n",
       "    <tr>\n",
       "      <th>1</th>\n",
       "      <td>45</td>\n",
       "      <td>1</td>\n",
       "      <td>3</td>\n",
       "      <td>10</td>\n",
       "      <td>1</td>\n",
       "      <td>1</td>\n",
       "      <td>3</td>\n",
       "      <td>4</td>\n",
       "      <td>0</td>\n",
       "      <td>1</td>\n",
       "    </tr>\n",
       "    <tr>\n",
       "      <th>2</th>\n",
       "      <td>43</td>\n",
       "      <td>2</td>\n",
       "      <td>3</td>\n",
       "      <td>7</td>\n",
       "      <td>1</td>\n",
       "      <td>1</td>\n",
       "      <td>3</td>\n",
       "      <td>4</td>\n",
       "      <td>0</td>\n",
       "      <td>1</td>\n",
       "    </tr>\n",
       "    <tr>\n",
       "      <th>3</th>\n",
       "      <td>42</td>\n",
       "      <td>3</td>\n",
       "      <td>2</td>\n",
       "      <td>9</td>\n",
       "      <td>1</td>\n",
       "      <td>1</td>\n",
       "      <td>3</td>\n",
       "      <td>3</td>\n",
       "      <td>0</td>\n",
       "      <td>1</td>\n",
       "    </tr>\n",
       "    <tr>\n",
       "      <th>4</th>\n",
       "      <td>36</td>\n",
       "      <td>3</td>\n",
       "      <td>3</td>\n",
       "      <td>8</td>\n",
       "      <td>1</td>\n",
       "      <td>1</td>\n",
       "      <td>3</td>\n",
       "      <td>2</td>\n",
       "      <td>0</td>\n",
       "      <td>1</td>\n",
       "    </tr>\n",
       "  </tbody>\n",
       "</table>\n",
       "</div>"
      ],
      "text/plain": [
       "   Wife Age  Wife Education  Husband Education  Num Children  Wife Religion  \\\n",
       "0        24               2                  3             3              1   \n",
       "1        45               1                  3            10              1   \n",
       "2        43               2                  3             7              1   \n",
       "3        42               3                  2             9              1   \n",
       "4        36               3                  3             8              1   \n",
       "\n",
       "   Wife Working  Husband Occupation  Standard of Living  Media Exposure  \\\n",
       "0             1                   2                   3               0   \n",
       "1             1                   3                   4               0   \n",
       "2             1                   3                   4               0   \n",
       "3             1                   3                   3               0   \n",
       "4             1                   3                   2               0   \n",
       "\n",
       "   Contraceptive Used  \n",
       "0                   1  \n",
       "1                   1  \n",
       "2                   1  \n",
       "3                   1  \n",
       "4                   1  "
      ]
     },
     "execution_count": 142,
     "metadata": {},
     "output_type": "execute_result"
    }
   ],
   "source": [
    "df.head()"
   ]
  },
  {
   "cell_type": "code",
   "execution_count": 143,
   "id": "189871fa",
   "metadata": {},
   "outputs": [],
   "source": [
    "import seaborn as sns\n",
    "import matplotlib.pyplot as plt\n",
    "sns.set_theme()"
   ]
  },
  {
   "cell_type": "code",
   "execution_count": 144,
   "id": "8cea1806",
   "metadata": {},
   "outputs": [
    {
     "data": {
      "text/plain": [
       "Text(0.5, 1.0, 'Histogram of Wife Age')"
      ]
     },
     "execution_count": 144,
     "metadata": {},
     "output_type": "execute_result"
    },
    {
     "data": {
      "text/plain": [
       "<Figure size 720x720 with 0 Axes>"
      ]
     },
     "metadata": {},
     "output_type": "display_data"
    },
    {
     "data": {
      "image/png": "[encoded data removed]",
      "text/plain": [
       "<Figure size 360x360 with 1 Axes>"
      ]
     },
     "metadata": {},
     "output_type": "display_data"
    }
   ],
   "source": [
    "fig = plt.figure(figsize=(10,10))\n",
    "sns.displot(df['Wife Age'])\n",
    "plt.title(\"Histogram of Wife Age\")"
   ]
  },
  {
   "cell_type": "code",
   "execution_count": 145,
   "id": "df351bc6",
   "metadata": {},
   "outputs": [
    {
     "name": "stderr",
     "output_type": "stream",
     "text": [
      "C:\\Users\\anime\\anaconda3\\envs\\tensor\\lib\\site-packages\\seaborn\\_decorators.py:43: FutureWarning: Pass the following variable as a keyword arg: x. From version 0.12, the only valid positional argument will be `data`, and passing other arguments without an explicit keyword will result in an error or misinterpretation.\n",
      "  FutureWarning\n"
     ]
    },
    {
     "data": {
      "text/plain": [
       "Text(0.5, 1.0, 'Histogram of Wife Education')"
      ]
     },
     "execution_count": 145,
     "metadata": {},
     "output_type": "execute_result"
    },
    {
     "data": {
      "image/png": "[encoded data removed]",
      "text/plain": [
       "<Figure size 864x864 with 1 Axes>"
      ]
     },
     "metadata": {},
     "output_type": "display_data"
    }
   ],
   "source": [
    "fig = plt.figure(figsize=(12,12))\n",
    "sns.countplot(df['Wife Education'])\n",
    "plt.title(\"Histogram of Wife Education\")"
   ]
  },
  {
   "cell_type": "code",
   "execution_count": 146,
   "id": "0dcc59fe",
   "metadata": {},
   "outputs": [
    {
     "name": "stderr",
     "output_type": "stream",
     "text": [
      "C:\\Users\\anime\\anaconda3\\envs\\tensor\\lib\\site-packages\\seaborn\\_decorators.py:43: FutureWarning: Pass the following variable as a keyword arg: x. From version 0.12, the only valid positional argument will be `data`, and passing other arguments without an explicit keyword will result in an error or misinterpretation.\n",
      "  FutureWarning\n"
     ]
    },
    {
     "data": {
      "text/plain": [
       "Text(0.5, 1.0, \"Countplot of Wife's Religion (0 = Non-Islamic, 1 = Islamic)\")"
      ]
     },
     "execution_count": 146,
     "metadata": {},
     "output_type": "execute_result"
    },
    {
     "data": {
      "image/png": "[encoded data removed]",
      "text/plain": [
       "<Figure size 432x288 with 1 Axes>"
      ]
     },
     "metadata": {},
     "output_type": "display_data"
    }
   ],
   "source": [
    "sns.countplot(df['Wife Religion'])\n",
    "plt.title(\"Countplot of Wife's Religion (0 = Non-Islamic, 1 = Islamic)\")"
   ]
  },
  {
   "cell_type": "code",
   "execution_count": 147,
   "id": "1dbc7a19",
   "metadata": {},
   "outputs": [
    {
     "data": {
      "text/html": [
       "<div>\n",
       "<style scoped>\n",
       "    .dataframe tbody tr th:only-of-type {\n",
       "        vertical-align: middle;\n",
       "    }\n",
       "\n",
       "    .dataframe tbody tr th {\n",
       "        vertical-align: top;\n",
       "    }\n",
       "\n",
       "    .dataframe thead th {\n",
       "        text-align: right;\n",
       "    }\n",
       "</style>\n",
       "<table border=\"1\" class=\"dataframe\">\n",
       "  <thead>\n",
       "    <tr style=\"text-align: right;\">\n",
       "      <th></th>\n",
       "      <th>Wife Age</th>\n",
       "      <th>Wife Education</th>\n",
       "      <th>Husband Education</th>\n",
       "      <th>Num Children</th>\n",
       "      <th>Wife Religion</th>\n",
       "      <th>Wife Working</th>\n",
       "      <th>Husband Occupation</th>\n",
       "      <th>Standard of Living</th>\n",
       "      <th>Media Exposure</th>\n",
       "      <th>Contraceptive Used</th>\n",
       "    </tr>\n",
       "  </thead>\n",
       "  <tbody>\n",
       "    <tr>\n",
       "      <th>0</th>\n",
       "      <td>24</td>\n",
       "      <td>2</td>\n",
       "      <td>3</td>\n",
       "      <td>3</td>\n",
       "      <td>1</td>\n",
       "      <td>1</td>\n",
       "      <td>2</td>\n",
       "      <td>3</td>\n",
       "      <td>0</td>\n",
       "      <td>1</td>\n",
       "    </tr>\n",
       "    <tr>\n",
       "      <th>1</th>\n",
       "      <td>45</td>\n",
       "      <td>1</td>\n",
       "      <td>3</td>\n",
       "      <td>10</td>\n",
       "      <td>1</td>\n",
       "      <td>1</td>\n",
       "      <td>3</td>\n",
       "      <td>4</td>\n",
       "      <td>0</td>\n",
       "      <td>1</td>\n",
       "    </tr>\n",
       "    <tr>\n",
       "      <th>2</th>\n",
       "      <td>43</td>\n",
       "      <td>2</td>\n",
       "      <td>3</td>\n",
       "      <td>7</td>\n",
       "      <td>1</td>\n",
       "      <td>1</td>\n",
       "      <td>3</td>\n",
       "      <td>4</td>\n",
       "      <td>0</td>\n",
       "      <td>1</td>\n",
       "    </tr>\n",
       "    <tr>\n",
       "      <th>3</th>\n",
       "      <td>42</td>\n",
       "      <td>3</td>\n",
       "      <td>2</td>\n",
       "      <td>9</td>\n",
       "      <td>1</td>\n",
       "      <td>1</td>\n",
       "      <td>3</td>\n",
       "      <td>3</td>\n",
       "      <td>0</td>\n",
       "      <td>1</td>\n",
       "    </tr>\n",
       "    <tr>\n",
       "      <th>4</th>\n",
       "      <td>36</td>\n",
       "      <td>3</td>\n",
       "      <td>3</td>\n",
       "      <td>8</td>\n",
       "      <td>1</td>\n",
       "      <td>1</td>\n",
       "      <td>3</td>\n",
       "      <td>2</td>\n",
       "      <td>0</td>\n",
       "      <td>1</td>\n",
       "    </tr>\n",
       "  </tbody>\n",
       "</table>\n",
       "</div>"
      ],
      "text/plain": [
       "   Wife Age  Wife Education  Husband Education  Num Children  Wife Religion  \\\n",
       "0        24               2                  3             3              1   \n",
       "1        45               1                  3            10              1   \n",
       "2        43               2                  3             7              1   \n",
       "3        42               3                  2             9              1   \n",
       "4        36               3                  3             8              1   \n",
       "\n",
       "   Wife Working  Husband Occupation  Standard of Living  Media Exposure  \\\n",
       "0             1                   2                   3               0   \n",
       "1             1                   3                   4               0   \n",
       "2             1                   3                   4               0   \n",
       "3             1                   3                   3               0   \n",
       "4             1                   3                   2               0   \n",
       "\n",
       "   Contraceptive Used  \n",
       "0                   1  \n",
       "1                   1  \n",
       "2                   1  \n",
       "3                   1  \n",
       "4                   1  "
      ]
     },
     "execution_count": 147,
     "metadata": {},
     "output_type": "execute_result"
    }
   ],
   "source": [
    "df.head()"
   ]
  },
  {
   "cell_type": "code",
   "execution_count": 148,
   "id": "8a6832a0",
   "metadata": {},
   "outputs": [
    {
     "name": "stderr",
     "output_type": "stream",
     "text": [
      "C:\\Users\\anime\\anaconda3\\envs\\tensor\\lib\\site-packages\\seaborn\\_decorators.py:43: FutureWarning: Pass the following variable as a keyword arg: x. From version 0.12, the only valid positional argument will be `data`, and passing other arguments without an explicit keyword will result in an error or misinterpretation.\n",
      "  FutureWarning\n"
     ]
    },
    {
     "data": {
      "text/plain": [
       "Text(0.5, 0, 'Wife Occupation')"
      ]
     },
     "execution_count": 148,
     "metadata": {},
     "output_type": "execute_result"
    },
    {
     "data": {
      "image/png": "[encoded data removed]",
      "text/plain": [
       "<Figure size 432x288 with 1 Axes>"
      ]
     },
     "metadata": {},
     "output_type": "display_data"
    }
   ],
   "source": [
    "sns.countplot(df['Wife Working'])\n",
    "plt.title(\"Countplot of Wife's Occupation (0 = Wife is Working, 1 = Wife not Working)\")\n",
    "plt.xlabel(\"Wife Occupation\")"
   ]
  },
  {
   "cell_type": "code",
   "execution_count": 149,
   "id": "2fa35088",
   "metadata": {},
   "outputs": [
    {
     "name": "stderr",
     "output_type": "stream",
     "text": [
      "C:\\Users\\anime\\anaconda3\\envs\\tensor\\lib\\site-packages\\seaborn\\_decorators.py:43: FutureWarning: Pass the following variable as a keyword arg: x. From version 0.12, the only valid positional argument will be `data`, and passing other arguments without an explicit keyword will result in an error or misinterpretation.\n",
      "  FutureWarning\n"
     ]
    },
    {
     "data": {
      "text/plain": [
       "Text(0.5, 1.0, 'Histogram of Husband Education')"
      ]
     },
     "execution_count": 149,
     "metadata": {},
     "output_type": "execute_result"
    },
    {
     "data": {
      "image/png": "[encoded data removed]",
      "text/plain": [
       "<Figure size 864x864 with 1 Axes>"
      ]
     },
     "metadata": {},
     "output_type": "display_data"
    }
   ],
   "source": [
    "fig = plt.figure(figsize=(12,12))\n",
    "sns.countplot(df['Husband Education'])\n",
    "plt.title(\"Histogram of Husband Education\")"
   ]
  },
  {
   "cell_type": "code",
   "execution_count": 150,
   "id": "5dd19ad0",
   "metadata": {},
   "outputs": [
    {
     "data": {
      "text/plain": [
       "Text(0.5, 1.0, 'Histogram of Number of Children')"
      ]
     },
     "execution_count": 150,
     "metadata": {},
     "output_type": "execute_result"
    },
    {
     "data": {
      "text/plain": [
       "<Figure size 864x864 with 0 Axes>"
      ]
     },
     "metadata": {},
     "output_type": "display_data"
    },
    {
     "data": {
      "image/png": "[encoded data removed]",
      "text/plain": [
       "<Figure size 360x360 with 1 Axes>"
      ]
     },
     "metadata": {},
     "output_type": "display_data"
    }
   ],
   "source": [
    "fig = plt.figure(figsize=(12,12))\n",
    "sns.displot(df['Num Children'], bins = 10)\n",
    "plt.title(\"Histogram of Number of Children\")"
   ]
  },
  {
   "cell_type": "code",
   "execution_count": 151,
   "id": "fcc85d25",
   "metadata": {},
   "outputs": [
    {
     "name": "stderr",
     "output_type": "stream",
     "text": [
      "C:\\Users\\anime\\anaconda3\\envs\\tensor\\lib\\site-packages\\seaborn\\_decorators.py:43: FutureWarning: Pass the following variable as a keyword arg: x. From version 0.12, the only valid positional argument will be `data`, and passing other arguments without an explicit keyword will result in an error or misinterpretation.\n",
      "  FutureWarning\n"
     ]
    },
    {
     "data": {
      "text/plain": [
       "Text(0.5, 1.0, 'Distribution of Standard of Living Variable')"
      ]
     },
     "execution_count": 151,
     "metadata": {},
     "output_type": "execute_result"
    },
    {
     "data": {
      "image/png": "[encoded data removed]",
      "text/plain": [
       "<Figure size 864x864 with 1 Axes>"
      ]
     },
     "metadata": {},
     "output_type": "display_data"
    }
   ],
   "source": [
    "fig = plt.figure(figsize=(12,12))\n",
    "sns.countplot(df['Standard of Living'])\n",
    "plt.title(\"Distribution of Standard of Living Variable\")"
   ]
  },
  {
   "cell_type": "code",
   "execution_count": 152,
   "id": "61aeb2c6",
   "metadata": {},
   "outputs": [
    {
     "name": "stderr",
     "output_type": "stream",
     "text": [
      "C:\\Users\\anime\\anaconda3\\envs\\tensor\\lib\\site-packages\\seaborn\\_decorators.py:43: FutureWarning: Pass the following variable as a keyword arg: x. From version 0.12, the only valid positional argument will be `data`, and passing other arguments without an explicit keyword will result in an error or misinterpretation.\n",
      "  FutureWarning\n"
     ]
    },
    {
     "data": {
      "text/plain": [
       "Text(0.5, 1.0, 'Distribution of Media Exposure Variable')"
      ]
     },
     "execution_count": 152,
     "metadata": {},
     "output_type": "execute_result"
    },
    {
     "data": {
      "image/png": "[encoded data removed]",
      "text/plain": [
       "<Figure size 864x864 with 1 Axes>"
      ]
     },
     "metadata": {},
     "output_type": "display_data"
    }
   ],
   "source": [
    "fig = plt.figure(figsize=(12,12))\n",
    "sns.countplot(df['Media Exposure'])\n",
    "plt.title(\"Distribution of Media Exposure Variable\")"
   ]
  },
  {
   "cell_type": "code",
   "execution_count": 153,
   "id": "a6200c70",
   "metadata": {},
   "outputs": [
    {
     "name": "stderr",
     "output_type": "stream",
     "text": [
      "C:\\Users\\anime\\anaconda3\\envs\\tensor\\lib\\site-packages\\seaborn\\_decorators.py:43: FutureWarning: Pass the following variable as a keyword arg: x. From version 0.12, the only valid positional argument will be `data`, and passing other arguments without an explicit keyword will result in an error or misinterpretation.\n",
      "  FutureWarning\n"
     ]
    },
    {
     "data": {
      "text/plain": [
       "Text(0.5, 1.0, 'Distribution of Target Variable')"
      ]
     },
     "execution_count": 153,
     "metadata": {},
     "output_type": "execute_result"
    },
    {
     "data": {
      "image/png": "[encoded data removed]",
      "text/plain": [
       "<Figure size 864x864 with 1 Axes>"
      ]
     },
     "metadata": {},
     "output_type": "display_data"
    }
   ],
   "source": [
    "fig = plt.figure(figsize=(12,12))\n",
    "sns.countplot(df['Contraceptive Used'])\n",
    "plt.title(\"Distribution of Target Variable\")"
   ]
  },
  {
   "cell_type": "code",
   "execution_count": 154,
   "id": "ff34d831",
   "metadata": {},
   "outputs": [
    {
     "name": "stderr",
     "output_type": "stream",
     "text": [
      "C:\\Users\\anime\\anaconda3\\envs\\tensor\\lib\\site-packages\\seaborn\\_decorators.py:43: FutureWarning: Pass the following variable as a keyword arg: x. From version 0.12, the only valid positional argument will be `data`, and passing other arguments without an explicit keyword will result in an error or misinterpretation.\n",
      "  FutureWarning\n"
     ]
    },
    {
     "data": {
      "text/plain": [
       "Text(0.5, 1.0, 'Distribution of Target Variable by Standard of Living')"
      ]
     },
     "execution_count": 154,
     "metadata": {},
     "output_type": "execute_result"
    },
    {
     "data": {
      "image/png": "[encoded data removed]",
      "text/plain": [
       "<Figure size 864x864 with 1 Axes>"
      ]
     },
     "metadata": {},
     "output_type": "display_data"
    }
   ],
   "source": [
    "fig = plt.figure(figsize=(12,12))\n",
    "sns.countplot(df['Contraceptive Used'], hue=df['Standard of Living'])\n",
    "plt.title(\"Distribution of Target Variable by Standard of Living\")"
   ]
  },
  {
   "cell_type": "code",
   "execution_count": 155,
   "id": "7bd2e111",
   "metadata": {},
   "outputs": [
    {
     "name": "stderr",
     "output_type": "stream",
     "text": [
      "C:\\Users\\anime\\anaconda3\\envs\\tensor\\lib\\site-packages\\seaborn\\_decorators.py:43: FutureWarning: Pass the following variable as a keyword arg: x. From version 0.12, the only valid positional argument will be `data`, and passing other arguments without an explicit keyword will result in an error or misinterpretation.\n",
      "  FutureWarning\n"
     ]
    },
    {
     "data": {
      "text/plain": [
       "Text(0.5, 1.0, 'Distribution of Target Variable by Religion of Wife')"
      ]
     },
     "execution_count": 155,
     "metadata": {},
     "output_type": "execute_result"
    },
    {
     "data": {
      "image/png": "[encoded data removed]",
      "text/plain": [
       "<Figure size 864x864 with 1 Axes>"
      ]
     },
     "metadata": {},
     "output_type": "display_data"
    }
   ],
   "source": [
    "fig = plt.figure(figsize=(12,12))\n",
    "sns.countplot(df['Contraceptive Used'], hue=df['Wife Religion'])\n",
    "plt.title(\"Distribution of Target Variable by Religion of Wife\")"
   ]
  },
  {
   "cell_type": "code",
   "execution_count": 156,
   "id": "953c4475",
   "metadata": {},
   "outputs": [
    {
     "data": {
      "text/plain": [
       "Text(0.5, 1.0, 'Heatmap of Correlation Between Variables')"
      ]
     },
     "execution_count": 156,
     "metadata": {},
     "output_type": "execute_result"
    },
    {
     "data": {
      "image/png": "[encoded data removed]",
      "text/plain": [
       "<Figure size 576x576 with 2 Axes>"
      ]
     },
     "metadata": {},
     "output_type": "display_data"
    }
   ],
   "source": [
    "\n",
    "fig = plt.figure(figsize=(8,8))\n",
    "sns.heatmap(df.corr())\n",
    "plt.title(\"Heatmap of Correlation Between Variables\")"
   ]
  },
  {
   "cell_type": "code",
   "execution_count": 157,
   "id": "031e7bf5",
   "metadata": {},
   "outputs": [
    {
     "data": {
      "text/html": [
       "<div>\n",
       "<style scoped>\n",
       "    .dataframe tbody tr th:only-of-type {\n",
       "        vertical-align: middle;\n",
       "    }\n",
       "\n",
       "    .dataframe tbody tr th {\n",
       "        vertical-align: top;\n",
       "    }\n",
       "\n",
       "    .dataframe thead th {\n",
       "        text-align: right;\n",
       "    }\n",
       "</style>\n",
       "<table border=\"1\" class=\"dataframe\">\n",
       "  <thead>\n",
       "    <tr style=\"text-align: right;\">\n",
       "      <th></th>\n",
       "      <th>Wife Age</th>\n",
       "      <th>Wife Education</th>\n",
       "      <th>Husband Education</th>\n",
       "      <th>Num Children</th>\n",
       "      <th>Wife Religion</th>\n",
       "      <th>Wife Working</th>\n",
       "      <th>Husband Occupation</th>\n",
       "      <th>Standard of Living</th>\n",
       "      <th>Media Exposure</th>\n",
       "      <th>Contraceptive Used</th>\n",
       "    </tr>\n",
       "  </thead>\n",
       "  <tbody>\n",
       "    <tr>\n",
       "      <th>Wife Age</th>\n",
       "      <td>1.000000</td>\n",
       "      <td>-0.048011</td>\n",
       "      <td>-0.052879</td>\n",
       "      <td>0.540126</td>\n",
       "      <td>-0.139543</td>\n",
       "      <td>-0.039880</td>\n",
       "      <td>-0.202532</td>\n",
       "      <td>0.184485</td>\n",
       "      <td>0.113306</td>\n",
       "      <td>-0.162953</td>\n",
       "    </tr>\n",
       "    <tr>\n",
       "      <th>Wife Education</th>\n",
       "      <td>-0.048011</td>\n",
       "      <td>1.000000</td>\n",
       "      <td>0.618369</td>\n",
       "      <td>-0.193839</td>\n",
       "      <td>-0.232973</td>\n",
       "      <td>-0.062200</td>\n",
       "      <td>-0.395921</td>\n",
       "      <td>0.361450</td>\n",
       "      <td>-0.336080</td>\n",
       "      <td>0.149777</td>\n",
       "    </tr>\n",
       "    <tr>\n",
       "      <th>Husband Education</th>\n",
       "      <td>-0.052879</td>\n",
       "      <td>0.618369</td>\n",
       "      <td>1.000000</td>\n",
       "      <td>-0.187513</td>\n",
       "      <td>-0.178447</td>\n",
       "      <td>0.001099</td>\n",
       "      <td>-0.337003</td>\n",
       "      <td>0.357490</td>\n",
       "      <td>-0.288691</td>\n",
       "      <td>0.103226</td>\n",
       "    </tr>\n",
       "    <tr>\n",
       "      <th>Num Children</th>\n",
       "      <td>0.540126</td>\n",
       "      <td>-0.193839</td>\n",
       "      <td>-0.187513</td>\n",
       "      <td>1.000000</td>\n",
       "      <td>0.073917</td>\n",
       "      <td>0.097316</td>\n",
       "      <td>-0.023000</td>\n",
       "      <td>-0.006046</td>\n",
       "      <td>0.133658</td>\n",
       "      <td>0.082772</td>\n",
       "    </tr>\n",
       "    <tr>\n",
       "      <th>Wife Religion</th>\n",
       "      <td>-0.139543</td>\n",
       "      <td>-0.232973</td>\n",
       "      <td>-0.178447</td>\n",
       "      <td>0.073917</td>\n",
       "      <td>1.000000</td>\n",
       "      <td>0.069837</td>\n",
       "      <td>0.084417</td>\n",
       "      <td>-0.196308</td>\n",
       "      <td>0.060243</td>\n",
       "      <td>-0.025271</td>\n",
       "    </tr>\n",
       "    <tr>\n",
       "      <th>Wife Working</th>\n",
       "      <td>-0.039880</td>\n",
       "      <td>-0.062200</td>\n",
       "      <td>0.001099</td>\n",
       "      <td>0.097316</td>\n",
       "      <td>0.069837</td>\n",
       "      <td>1.000000</td>\n",
       "      <td>0.014232</td>\n",
       "      <td>-0.076505</td>\n",
       "      <td>0.001828</td>\n",
       "      <td>0.054438</td>\n",
       "    </tr>\n",
       "    <tr>\n",
       "      <th>Husband Occupation</th>\n",
       "      <td>-0.202532</td>\n",
       "      <td>-0.395921</td>\n",
       "      <td>-0.337003</td>\n",
       "      <td>-0.023000</td>\n",
       "      <td>0.084417</td>\n",
       "      <td>0.014232</td>\n",
       "      <td>1.000000</td>\n",
       "      <td>-0.293831</td>\n",
       "      <td>0.113925</td>\n",
       "      <td>0.018161</td>\n",
       "    </tr>\n",
       "    <tr>\n",
       "      <th>Standard of Living</th>\n",
       "      <td>0.184485</td>\n",
       "      <td>0.361450</td>\n",
       "      <td>0.357490</td>\n",
       "      <td>-0.006046</td>\n",
       "      <td>-0.196308</td>\n",
       "      <td>-0.076505</td>\n",
       "      <td>-0.293831</td>\n",
       "      <td>1.000000</td>\n",
       "      <td>-0.251359</td>\n",
       "      <td>0.091149</td>\n",
       "    </tr>\n",
       "    <tr>\n",
       "      <th>Media Exposure</th>\n",
       "      <td>0.113306</td>\n",
       "      <td>-0.336080</td>\n",
       "      <td>-0.288691</td>\n",
       "      <td>0.133658</td>\n",
       "      <td>0.060243</td>\n",
       "      <td>0.001828</td>\n",
       "      <td>0.113925</td>\n",
       "      <td>-0.251359</td>\n",
       "      <td>1.000000</td>\n",
       "      <td>-0.119206</td>\n",
       "    </tr>\n",
       "    <tr>\n",
       "      <th>Contraceptive Used</th>\n",
       "      <td>-0.162953</td>\n",
       "      <td>0.149777</td>\n",
       "      <td>0.103226</td>\n",
       "      <td>0.082772</td>\n",
       "      <td>-0.025271</td>\n",
       "      <td>0.054438</td>\n",
       "      <td>0.018161</td>\n",
       "      <td>0.091149</td>\n",
       "      <td>-0.119206</td>\n",
       "      <td>1.000000</td>\n",
       "    </tr>\n",
       "  </tbody>\n",
       "</table>\n",
       "</div>"
      ],
      "text/plain": [
       "                    Wife Age  Wife Education  Husband Education  Num Children  \\\n",
       "Wife Age            1.000000       -0.048011          -0.052879      0.540126   \n",
       "Wife Education     -0.048011        1.000000           0.618369     -0.193839   \n",
       "Husband Education  -0.052879        0.618369           1.000000     -0.187513   \n",
       "Num Children        0.540126       -0.193839          -0.187513      1.000000   \n",
       "Wife Religion      -0.139543       -0.232973          -0.178447      0.073917   \n",
       "Wife Working       -0.039880       -0.062200           0.001099      0.097316   \n",
       "Husband Occupation -0.202532       -0.395921          -0.337003     -0.023000   \n",
       "Standard of Living  0.184485        0.361450           0.357490     -0.006046   \n",
       "Media Exposure      0.113306       -0.336080          -0.288691      0.133658   \n",
       "Contraceptive Used -0.162953        0.149777           0.103226      0.082772   \n",
       "\n",
       "                    Wife Religion  Wife Working  Husband Occupation  \\\n",
       "Wife Age                -0.139543     -0.039880           -0.202532   \n",
       "Wife Education          -0.232973     -0.062200           -0.395921   \n",
       "Husband Education       -0.178447      0.001099           -0.337003   \n",
       "Num Children             0.073917      0.097316           -0.023000   \n",
       "Wife Religion            1.000000      0.069837            0.084417   \n",
       "Wife Working             0.069837      1.000000            0.014232   \n",
       "Husband Occupation       0.084417      0.014232            1.000000   \n",
       "Standard of Living      -0.196308     -0.076505           -0.293831   \n",
       "Media Exposure           0.060243      0.001828            0.113925   \n",
       "Contraceptive Used      -0.025271      0.054438            0.018161   \n",
       "\n",
       "                    Standard of Living  Media Exposure  Contraceptive Used  \n",
       "Wife Age                      0.184485        0.113306           -0.162953  \n",
       "Wife Education                0.361450       -0.336080            0.149777  \n",
       "Husband Education             0.357490       -0.288691            0.103226  \n",
       "Num Children                 -0.006046        0.133658            0.082772  \n",
       "Wife Religion                -0.196308        0.060243           -0.025271  \n",
       "Wife Working                 -0.076505        0.001828            0.054438  \n",
       "Husband Occupation           -0.293831        0.113925            0.018161  \n",
       "Standard of Living            1.000000       -0.251359            0.091149  \n",
       "Media Exposure               -0.251359        1.000000           -0.119206  \n",
       "Contraceptive Used            0.091149       -0.119206            1.000000  "
      ]
     },
     "execution_count": 157,
     "metadata": {},
     "output_type": "execute_result"
    }
   ],
   "source": [
    "df.corr()"
   ]
  },
  {
   "cell_type": "code",
   "execution_count": 158,
   "id": "ef300aca",
   "metadata": {},
   "outputs": [
    {
     "name": "stderr",
     "output_type": "stream",
     "text": [
      "C:\\Users\\anime\\anaconda3\\envs\\tensor\\lib\\site-packages\\seaborn\\_decorators.py:43: FutureWarning: Pass the following variable as a keyword arg: x. From version 0.12, the only valid positional argument will be `data`, and passing other arguments without an explicit keyword will result in an error or misinterpretation.\n",
      "  FutureWarning\n"
     ]
    },
    {
     "data": {
      "text/plain": [
       "Text(0.5, 1.0, 'Distribution of Target Variable by Education of Wife')"
      ]
     },
     "execution_count": 158,
     "metadata": {},
     "output_type": "execute_result"
    },
    {
     "data": {
      "image/png": "[encoded data removed]",
      "text/plain": [
       "<Figure size 864x864 with 1 Axes>"
      ]
     },
     "metadata": {},
     "output_type": "display_data"
    }
   ],
   "source": [
    "fig = plt.figure(figsize=(12,12))\n",
    "sns.countplot(df['Contraceptive Used'], hue=df['Wife Education'])\n",
    "plt.title(\"Distribution of Target Variable by Education of Wife\")"
   ]
  },
  {
   "cell_type": "code",
   "execution_count": 159,
   "id": "5883343e",
   "metadata": {},
   "outputs": [
    {
     "name": "stderr",
     "output_type": "stream",
     "text": [
      "C:\\Users\\anime\\anaconda3\\envs\\tensor\\lib\\site-packages\\seaborn\\_decorators.py:43: FutureWarning: Pass the following variable as a keyword arg: x. From version 0.12, the only valid positional argument will be `data`, and passing other arguments without an explicit keyword will result in an error or misinterpretation.\n",
      "  FutureWarning\n"
     ]
    },
    {
     "data": {
      "text/plain": [
       "Text(0.5, 1.0, 'Distribution of Target Variable by Education of Husband')"
      ]
     },
     "execution_count": 159,
     "metadata": {},
     "output_type": "execute_result"
    },
    {
     "data": {
      "image/png": "[encoded data removed]",
      "text/plain": [
       "<Figure size 864x864 with 1 Axes>"
      ]
     },
     "metadata": {},
     "output_type": "display_data"
    }
   ],
   "source": [
    "fig = plt.figure(figsize=(12,12))\n",
    "sns.countplot(df['Contraceptive Used'], hue=df['Husband Education'])\n",
    "plt.title(\"Distribution of Target Variable by Education of Husband\")"
   ]
  },
  {
   "cell_type": "code",
   "execution_count": 160,
   "id": "311fc6a2",
   "metadata": {},
   "outputs": [
    {
     "name": "stderr",
     "output_type": "stream",
     "text": [
      "C:\\Users\\anime\\anaconda3\\envs\\tensor\\lib\\site-packages\\seaborn\\_decorators.py:43: FutureWarning: Pass the following variable as a keyword arg: x. From version 0.12, the only valid positional argument will be `data`, and passing other arguments without an explicit keyword will result in an error or misinterpretation.\n",
      "  FutureWarning\n"
     ]
    },
    {
     "data": {
      "text/plain": [
       "Text(0.5, 1.0, 'Boxplot representing the distribution of the number of children')"
      ]
     },
     "execution_count": 160,
     "metadata": {},
     "output_type": "execute_result"
    },
    {
     "data": {
      "image/png": "[encoded data removed]",
      "text/plain": [
       "<Figure size 864x864 with 1 Axes>"
      ]
     },
     "metadata": {},
     "output_type": "display_data"
    }
   ],
   "source": [
    "fig = plt.figure(figsize=(12,12))\n",
    "sns.boxplot(df['Num Children'])\n",
    "plt.title(\"Boxplot representing the distribution of the number of children\")"
   ]
  },
  {
   "cell_type": "code",
   "execution_count": 161,
   "id": "7293253b",
   "metadata": {},
   "outputs": [],
   "source": [
    "df_islam = df[df['Wife Religion'] == 1]"
   ]
  },
  {
   "cell_type": "code",
   "execution_count": 162,
   "id": "f5cb1b7e",
   "metadata": {},
   "outputs": [
    {
     "name": "stderr",
     "output_type": "stream",
     "text": [
      "C:\\Users\\anime\\anaconda3\\envs\\tensor\\lib\\site-packages\\seaborn\\_decorators.py:43: FutureWarning: Pass the following variable as a keyword arg: x. From version 0.12, the only valid positional argument will be `data`, and passing other arguments without an explicit keyword will result in an error or misinterpretation.\n",
      "  FutureWarning\n"
     ]
    },
    {
     "data": {
      "text/plain": [
       "Text(0.5, 1.0, 'Contraceptive Use Distribution Among Muslim Women')"
      ]
     },
     "execution_count": 162,
     "metadata": {},
     "output_type": "execute_result"
    },
    {
     "data": {
      "image/png": "[encoded data removed]",
      "text/plain": [
       "<Figure size 864x864 with 1 Axes>"
      ]
     },
     "metadata": {},
     "output_type": "display_data"
    }
   ],
   "source": [
    "fig = plt.figure(figsize=(12,12))\n",
    "sns.countplot(df_islam['Contraceptive Used'])\n",
    "plt.title('Contraceptive Use Distribution Among Muslim Women')"
   ]
  },
  {
   "cell_type": "code",
   "execution_count": 163,
   "id": "8a85ff05",
   "metadata": {},
   "outputs": [],
   "source": [
    "df_nonislam = df[df['Wife Religion'] == 0]"
   ]
  },
  {
   "cell_type": "code",
   "execution_count": 164,
   "id": "80b064bd",
   "metadata": {},
   "outputs": [
    {
     "name": "stderr",
     "output_type": "stream",
     "text": [
      "C:\\Users\\anime\\anaconda3\\envs\\tensor\\lib\\site-packages\\seaborn\\_decorators.py:43: FutureWarning: Pass the following variable as a keyword arg: x. From version 0.12, the only valid positional argument will be `data`, and passing other arguments without an explicit keyword will result in an error or misinterpretation.\n",
      "  FutureWarning\n"
     ]
    },
    {
     "data": {
      "text/plain": [
       "Text(0.5, 1.0, 'Contraceptive Use Distribution Among Non-Muslim Women')"
      ]
     },
     "execution_count": 164,
     "metadata": {},
     "output_type": "execute_result"
    },
    {
     "data": {
      "image/png": "[encoded data removed]",
      "text/plain": [
       "<Figure size 864x864 with 1 Axes>"
      ]
     },
     "metadata": {},
     "output_type": "display_data"
    }
   ],
   "source": [
    "fig = plt.figure(figsize=(12,12))\n",
    "sns.countplot(df_nonislam['Contraceptive Used'])\n",
    "plt.title('Contraceptive Use Distribution Among Non-Muslim Women')"
   ]
  },
  {
   "cell_type": "code",
   "execution_count": 165,
   "id": "327b4a17",
   "metadata": {},
   "outputs": [],
   "source": [
    "df_wifeworking = df[df['Wife Working'] == 0]"
   ]
  },
  {
   "cell_type": "code",
   "execution_count": 166,
   "id": "92e1f6c2",
   "metadata": {},
   "outputs": [
    {
     "name": "stderr",
     "output_type": "stream",
     "text": [
      "C:\\Users\\anime\\anaconda3\\envs\\tensor\\lib\\site-packages\\seaborn\\_decorators.py:43: FutureWarning: Pass the following variable as a keyword arg: x. From version 0.12, the only valid positional argument will be `data`, and passing other arguments without an explicit keyword will result in an error or misinterpretation.\n",
      "  FutureWarning\n"
     ]
    },
    {
     "data": {
      "text/plain": [
       "Text(0.5, 1.0, 'Contraceptive Use Distribution Among Couples with Working Women')"
      ]
     },
     "execution_count": 166,
     "metadata": {},
     "output_type": "execute_result"
    },
    {
     "data": {
      "image/png": "[encoded data removed]",
      "text/plain": [
       "<Figure size 864x864 with 1 Axes>"
      ]
     },
     "metadata": {},
     "output_type": "display_data"
    }
   ],
   "source": [
    "fig = plt.figure(figsize=(12,12))\n",
    "sns.countplot(df_wifeworking['Contraceptive Used'])\n",
    "plt.title('Contraceptive Use Distribution Among Couples with Working Women')"
   ]
  },
  {
   "cell_type": "code",
   "execution_count": 167,
   "id": "85434be1",
   "metadata": {},
   "outputs": [],
   "source": [
    "df_wifenotworking = df[df['Wife Working'] == 1]"
   ]
  },
  {
   "cell_type": "code",
   "execution_count": 168,
   "id": "f01b6875",
   "metadata": {},
   "outputs": [
    {
     "name": "stderr",
     "output_type": "stream",
     "text": [
      "C:\\Users\\anime\\anaconda3\\envs\\tensor\\lib\\site-packages\\seaborn\\_decorators.py:43: FutureWarning: Pass the following variable as a keyword arg: x. From version 0.12, the only valid positional argument will be `data`, and passing other arguments without an explicit keyword will result in an error or misinterpretation.\n",
      "  FutureWarning\n"
     ]
    },
    {
     "data": {
      "text/plain": [
       "Text(0.5, 1.0, 'Contraceptive Use Distribution Among Couples with Non-Working Women')"
      ]
     },
     "execution_count": 168,
     "metadata": {},
     "output_type": "execute_result"
    },
    {
     "data": {
      "image/png": "[encoded data removed]",
      "text/plain": [
       "<Figure size 864x864 with 1 Axes>"
      ]
     },
     "metadata": {},
     "output_type": "display_data"
    }
   ],
   "source": [
    "fig = plt.figure(figsize=(12,12))\n",
    "sns.countplot(df_wifenotworking['Contraceptive Used'])\n",
    "plt.title('Contraceptive Use Distribution Among Couples with Non-Working Women')"
   ]
  },
  {
   "cell_type": "code",
   "execution_count": 169,
   "id": "58e4d43c",
   "metadata": {},
   "outputs": [],
   "source": [
    "df_extrakids = df[df['Num Children'] > 3]"
   ]
  },
  {
   "cell_type": "code",
   "execution_count": 170,
   "id": "6ae5ac10",
   "metadata": {},
   "outputs": [],
   "source": [
    "df_lesskids = df[df['Num Children'] <= 3]"
   ]
  },
  {
   "cell_type": "code",
   "execution_count": 171,
   "id": "13ca0d8a",
   "metadata": {},
   "outputs": [
    {
     "name": "stderr",
     "output_type": "stream",
     "text": [
      "C:\\Users\\anime\\anaconda3\\envs\\tensor\\lib\\site-packages\\seaborn\\_decorators.py:43: FutureWarning: Pass the following variable as a keyword arg: x. From version 0.12, the only valid positional argument will be `data`, and passing other arguments without an explicit keyword will result in an error or misinterpretation.\n",
      "  FutureWarning\n"
     ]
    },
    {
     "data": {
      "text/plain": [
       "Text(0.5, 1.0, 'Contraceptive Use Distribution Among Couples With More Than 3 kids')"
      ]
     },
     "execution_count": 171,
     "metadata": {},
     "output_type": "execute_result"
    },
    {
     "data": {
      "image/png": "[encoded data removed]",
      "text/plain": [
       "<Figure size 864x864 with 1 Axes>"
      ]
     },
     "metadata": {},
     "output_type": "display_data"
    }
   ],
   "source": [
    "fig = plt.figure(figsize=(12,12))\n",
    "sns.countplot(df_extrakids['Contraceptive Used'])\n",
    "plt.title('Contraceptive Use Distribution Among Couples With More Than 3 kids')"
   ]
  },
  {
   "cell_type": "code",
   "execution_count": 172,
   "id": "e8f451b7",
   "metadata": {},
   "outputs": [
    {
     "name": "stderr",
     "output_type": "stream",
     "text": [
      "C:\\Users\\anime\\anaconda3\\envs\\tensor\\lib\\site-packages\\seaborn\\_decorators.py:43: FutureWarning: Pass the following variable as a keyword arg: x. From version 0.12, the only valid positional argument will be `data`, and passing other arguments without an explicit keyword will result in an error or misinterpretation.\n",
      "  FutureWarning\n"
     ]
    },
    {
     "data": {
      "text/plain": [
       "Text(0.5, 1.0, 'Contraceptive Use Distribution Among Couples With 3 or Fewer kids')"
      ]
     },
     "execution_count": 172,
     "metadata": {},
     "output_type": "execute_result"
    },
    {
     "data": {
      "image/png": "[encoded data removed]",
      "text/plain": [
       "<Figure size 864x864 with 1 Axes>"
      ]
     },
     "metadata": {},
     "output_type": "display_data"
    }
   ],
   "source": [
    "fig = plt.figure(figsize=(12,12))\n",
    "sns.countplot(df_lesskids['Contraceptive Used'])\n",
    "plt.title('Contraceptive Use Distribution Among Couples With 3 or Fewer kids')"
   ]
  },
  {
   "cell_type": "code",
   "execution_count": 173,
   "id": "648ddd3a",
   "metadata": {},
   "outputs": [],
   "source": [
    "df_highstandard = df[df['Standard of Living'] > 2]"
   ]
  },
  {
   "cell_type": "code",
   "execution_count": 174,
   "id": "62e09074",
   "metadata": {},
   "outputs": [],
   "source": [
    "df_lowstandard = df[df['Standard of Living'] < 3]"
   ]
  },
  {
   "cell_type": "code",
   "execution_count": 175,
   "id": "608a4151",
   "metadata": {},
   "outputs": [
    {
     "name": "stderr",
     "output_type": "stream",
     "text": [
      "C:\\Users\\anime\\anaconda3\\envs\\tensor\\lib\\site-packages\\seaborn\\_decorators.py:43: FutureWarning: Pass the following variable as a keyword arg: x. From version 0.12, the only valid positional argument will be `data`, and passing other arguments without an explicit keyword will result in an error or misinterpretation.\n",
      "  FutureWarning\n"
     ]
    },
    {
     "data": {
      "text/plain": [
       "Text(0.5, 1.0, 'Contraceptive Use Distribution Among Couples With Low Standard of Living')"
      ]
     },
     "execution_count": 175,
     "metadata": {},
     "output_type": "execute_result"
    },
    {
     "data": {
      "image/png": "[encoded data removed]",
      "text/plain": [
       "<Figure size 864x864 with 1 Axes>"
      ]
     },
     "metadata": {},
     "output_type": "display_data"
    }
   ],
   "source": [
    "fig = plt.figure(figsize=(12,12))\n",
    "sns.countplot(df_lowstandard['Contraceptive Used'])\n",
    "plt.title('Contraceptive Use Distribution Among Couples With Low Standard of Living')"
   ]
  },
  {
   "cell_type": "code",
   "execution_count": 176,
   "id": "42a380f8",
   "metadata": {},
   "outputs": [
    {
     "name": "stderr",
     "output_type": "stream",
     "text": [
      "C:\\Users\\anime\\anaconda3\\envs\\tensor\\lib\\site-packages\\seaborn\\_decorators.py:43: FutureWarning: Pass the following variable as a keyword arg: x. From version 0.12, the only valid positional argument will be `data`, and passing other arguments without an explicit keyword will result in an error or misinterpretation.\n",
      "  FutureWarning\n"
     ]
    },
    {
     "data": {
      "text/plain": [
       "Text(0.5, 1.0, 'Contraceptive Use Distribution Among Couples With High Standard of Living')"
      ]
     },
     "execution_count": 176,
     "metadata": {},
     "output_type": "execute_result"
    },
    {
     "data": {
      "image/png": "[encoded data removed]",
      "text/plain": [
       "<Figure size 864x864 with 1 Axes>"
      ]
     },
     "metadata": {},
     "output_type": "display_data"
    }
   ],
   "source": [
    "fig = plt.figure(figsize=(12,12))\n",
    "sns.countplot(df_highstandard['Contraceptive Used'])\n",
    "plt.title('Contraceptive Use Distribution Among Couples With High Standard of Living')"
   ]
  },
  {
   "cell_type": "code",
   "execution_count": 177,
   "id": "b1ecf365",
   "metadata": {},
   "outputs": [],
   "source": [
    "df_educatedcouple = df[df['Husband Education'] > 2]\n",
    "df_educatedcouple =  df_educatedcouple[df_educatedcouple['Wife Education'] > 2]"
   ]
  },
  {
   "cell_type": "code",
   "execution_count": 178,
   "id": "1f180b06",
   "metadata": {},
   "outputs": [],
   "source": [
    "df_uneducatedcouple = df[df['Husband Education'] < 3]\n",
    "df_uneducatedcouple =  df_uneducatedcouple[df_uneducatedcouple['Wife Education'] < 3]"
   ]
  },
  {
   "cell_type": "code",
   "execution_count": 179,
   "id": "96845967",
   "metadata": {},
   "outputs": [
    {
     "name": "stderr",
     "output_type": "stream",
     "text": [
      "C:\\Users\\anime\\anaconda3\\envs\\tensor\\lib\\site-packages\\seaborn\\_decorators.py:43: FutureWarning: Pass the following variable as a keyword arg: x. From version 0.12, the only valid positional argument will be `data`, and passing other arguments without an explicit keyword will result in an error or misinterpretation.\n",
      "  FutureWarning\n"
     ]
    },
    {
     "data": {
      "text/plain": [
       "Text(0.5, 1.0, 'Contraceptive Use Distribution Among Couples With High Levels of Education')"
      ]
     },
     "execution_count": 179,
     "metadata": {},
     "output_type": "execute_result"
    },
    {
     "data": {
      "image/png": "[encoded data removed]",
      "text/plain": [
       "<Figure size 864x864 with 1 Axes>"
      ]
     },
     "metadata": {},
     "output_type": "display_data"
    }
   ],
   "source": [
    "fig = plt.figure(figsize=(12,12))\n",
    "sns.countplot(df_educatedcouple['Contraceptive Used'])\n",
    "plt.title('Contraceptive Use Distribution Among Couples With High Levels of Education')"
   ]
  },
  {
   "cell_type": "code",
   "execution_count": 180,
   "id": "1ca2e8ea",
   "metadata": {},
   "outputs": [
    {
     "name": "stderr",
     "output_type": "stream",
     "text": [
      "C:\\Users\\anime\\anaconda3\\envs\\tensor\\lib\\site-packages\\seaborn\\_decorators.py:43: FutureWarning: Pass the following variable as a keyword arg: x. From version 0.12, the only valid positional argument will be `data`, and passing other arguments without an explicit keyword will result in an error or misinterpretation.\n",
      "  FutureWarning\n"
     ]
    },
    {
     "data": {
      "text/plain": [
       "Text(0.5, 1.0, 'Contraceptive Use Distribution Among Couples With Lower Levels of Education')"
      ]
     },
     "execution_count": 180,
     "metadata": {},
     "output_type": "execute_result"
    },
    {
     "data": {
      "image/png": "[encoded data removed]",
      "text/plain": [
       "<Figure size 864x864 with 1 Axes>"
      ]
     },
     "metadata": {},
     "output_type": "display_data"
    }
   ],
   "source": [
    "fig = plt.figure(figsize=(12,12))\n",
    "sns.countplot(df_uneducatedcouple['Contraceptive Used'])\n",
    "plt.title('Contraceptive Use Distribution Among Couples With Lower Levels of Education')"
   ]
  },
  {
   "cell_type": "code",
   "execution_count": 181,
   "id": "edac288a",
   "metadata": {},
   "outputs": [],
   "source": [
    "X = df.drop('Contraceptive Used', axis=1)"
   ]
  },
  {
   "cell_type": "code",
   "execution_count": 182,
   "id": "cba6c71e",
   "metadata": {},
   "outputs": [
    {
     "data": {
      "text/html": [
       "<div>\n",
       "<style scoped>\n",
       "    .dataframe tbody tr th:only-of-type {\n",
       "        vertical-align: middle;\n",
       "    }\n",
       "\n",
       "    .dataframe tbody tr th {\n",
       "        vertical-align: top;\n",
       "    }\n",
       "\n",
       "    .dataframe thead th {\n",
       "        text-align: right;\n",
       "    }\n",
       "</style>\n",
       "<table border=\"1\" class=\"dataframe\">\n",
       "  <thead>\n",
       "    <tr style=\"text-align: right;\">\n",
       "      <th></th>\n",
       "      <th>Wife Age</th>\n",
       "      <th>Wife Education</th>\n",
       "      <th>Husband Education</th>\n",
       "      <th>Num Children</th>\n",
       "      <th>Wife Religion</th>\n",
       "      <th>Wife Working</th>\n",
       "      <th>Husband Occupation</th>\n",
       "      <th>Standard of Living</th>\n",
       "      <th>Media Exposure</th>\n",
       "    </tr>\n",
       "  </thead>\n",
       "  <tbody>\n",
       "    <tr>\n",
       "      <th>0</th>\n",
       "      <td>24</td>\n",
       "      <td>2</td>\n",
       "      <td>3</td>\n",
       "      <td>3</td>\n",
       "      <td>1</td>\n",
       "      <td>1</td>\n",
       "      <td>2</td>\n",
       "      <td>3</td>\n",
       "      <td>0</td>\n",
       "    </tr>\n",
       "    <tr>\n",
       "      <th>1</th>\n",
       "      <td>45</td>\n",
       "      <td>1</td>\n",
       "      <td>3</td>\n",
       "      <td>10</td>\n",
       "      <td>1</td>\n",
       "      <td>1</td>\n",
       "      <td>3</td>\n",
       "      <td>4</td>\n",
       "      <td>0</td>\n",
       "    </tr>\n",
       "    <tr>\n",
       "      <th>2</th>\n",
       "      <td>43</td>\n",
       "      <td>2</td>\n",
       "      <td>3</td>\n",
       "      <td>7</td>\n",
       "      <td>1</td>\n",
       "      <td>1</td>\n",
       "      <td>3</td>\n",
       "      <td>4</td>\n",
       "      <td>0</td>\n",
       "    </tr>\n",
       "    <tr>\n",
       "      <th>3</th>\n",
       "      <td>42</td>\n",
       "      <td>3</td>\n",
       "      <td>2</td>\n",
       "      <td>9</td>\n",
       "      <td>1</td>\n",
       "      <td>1</td>\n",
       "      <td>3</td>\n",
       "      <td>3</td>\n",
       "      <td>0</td>\n",
       "    </tr>\n",
       "    <tr>\n",
       "      <th>4</th>\n",
       "      <td>36</td>\n",
       "      <td>3</td>\n",
       "      <td>3</td>\n",
       "      <td>8</td>\n",
       "      <td>1</td>\n",
       "      <td>1</td>\n",
       "      <td>3</td>\n",
       "      <td>2</td>\n",
       "      <td>0</td>\n",
       "    </tr>\n",
       "  </tbody>\n",
       "</table>\n",
       "</div>"
      ],
      "text/plain": [
       "   Wife Age  Wife Education  Husband Education  Num Children  Wife Religion  \\\n",
       "0        24               2                  3             3              1   \n",
       "1        45               1                  3            10              1   \n",
       "2        43               2                  3             7              1   \n",
       "3        42               3                  2             9              1   \n",
       "4        36               3                  3             8              1   \n",
       "\n",
       "   Wife Working  Husband Occupation  Standard of Living  Media Exposure  \n",
       "0             1                   2                   3               0  \n",
       "1             1                   3                   4               0  \n",
       "2             1                   3                   4               0  \n",
       "3             1                   3                   3               0  \n",
       "4             1                   3                   2               0  "
      ]
     },
     "execution_count": 182,
     "metadata": {},
     "output_type": "execute_result"
    }
   ],
   "source": [
    "X.head()"
   ]
  },
  {
   "cell_type": "code",
   "execution_count": 183,
   "id": "3b8d047e",
   "metadata": {},
   "outputs": [],
   "source": [
    "y = df['Contraceptive Used']"
   ]
  },
  {
   "cell_type": "code",
   "execution_count": 184,
   "id": "2b3c37c7",
   "metadata": {},
   "outputs": [],
   "source": [
    "for x in range(len(y)):\n",
    "    \n",
    "    if y[x] == 1:\n",
    "        \n",
    "        y[x] = 0\n",
    "    \n",
    "    if y[x] == 2 or y[x] == 3:\n",
    "        \n",
    "        y[x] = 1\n",
    "    "
   ]
  },
  {
   "cell_type": "code",
   "execution_count": 123,
   "id": "7a011f57",
   "metadata": {},
   "outputs": [
    {
     "name": "stdout",
     "output_type": "stream",
     "text": [
      "1\n"
     ]
    }
   ],
   "source": [
    "print(y.max())"
   ]
  },
  {
   "cell_type": "code",
   "execution_count": 185,
   "id": "1b7bbfe6",
   "metadata": {},
   "outputs": [],
   "source": [
    "from sklearn.model_selection import train_test_split"
   ]
  },
  {
   "cell_type": "code",
   "execution_count": 186,
   "id": "8c4d4862",
   "metadata": {},
   "outputs": [],
   "source": [
    "X_train, X_test, y_train, y_test = train_test_split(X,y,test_size = 0.3)"
   ]
  },
  {
   "cell_type": "code",
   "execution_count": 126,
   "id": "03ed0cf5",
   "metadata": {},
   "outputs": [],
   "source": [
    "from sklearn.neighbors import KNeighborsClassifier"
   ]
  },
  {
   "cell_type": "code",
   "execution_count": 127,
   "id": "183e7344",
   "metadata": {},
   "outputs": [],
   "source": [
    "error_rate = []\n",
    "for i in range(1,20):\n",
    "    \n",
    "    knn = KNeighborsClassifier(n_neighbors = i)\n",
    "    knn.fit(X_train, y_train)\n",
    "    predict_i = knn.predict(X_test)\n",
    "    error_rate.append(np.mean(predict_i != y_test))"
   ]
  },
  {
   "cell_type": "code",
   "execution_count": 128,
   "id": "36735a3d",
   "metadata": {},
   "outputs": [
    {
     "data": {
      "text/plain": [
       "[<matplotlib.lines.Line2D at 0x17efee0bc50>]"
      ]
     },
     "execution_count": 128,
     "metadata": {},
     "output_type": "execute_result"
    },
    {
     "data": {
      "image/png": "[encoded data removed]",
      "text/plain": [
       "<Figure size 432x288 with 1 Axes>"
      ]
     },
     "metadata": {},
     "output_type": "display_data"
    }
   ],
   "source": [
    "plt.plot(range(1,20), error_rate)"
   ]
  },
  {
   "cell_type": "code",
   "execution_count": 129,
   "id": "55e1d76b",
   "metadata": {},
   "outputs": [
    {
     "data": {
      "text/plain": [
       "KNeighborsClassifier(n_neighbors=8)"
      ]
     },
     "execution_count": 129,
     "metadata": {},
     "output_type": "execute_result"
    }
   ],
   "source": [
    "knn_contraceptive = KNeighborsClassifier(n_neighbors = 8)\n",
    "knn_contraceptive.fit(X_train, y_train)"
   ]
  },
  {
   "cell_type": "code",
   "execution_count": 130,
   "id": "441b9b01",
   "metadata": {},
   "outputs": [],
   "source": [
    "predictions_knn_multiclass = knn_contraceptive.predict(X_test)"
   ]
  },
  {
   "cell_type": "code",
   "execution_count": 131,
   "id": "6df5d87f",
   "metadata": {},
   "outputs": [],
   "source": [
    "from sklearn.metrics import confusion_matrix, classification_report, ConfusionMatrixDisplay"
   ]
  },
  {
   "cell_type": "code",
   "execution_count": 132,
   "id": "5285a5e6",
   "metadata": {},
   "outputs": [
    {
     "name": "stdout",
     "output_type": "stream",
     "text": [
      "              precision    recall  f1-score   support\n",
      "\n",
      "           0       0.51      0.65      0.57       153\n",
      "           1       0.78      0.67      0.72       289\n",
      "\n",
      "    accuracy                           0.66       442\n",
      "   macro avg       0.65      0.66      0.65       442\n",
      "weighted avg       0.69      0.66      0.67       442\n",
      "\n"
     ]
    }
   ],
   "source": [
    "print(classification_report(predictions_knn_multiclass, y_test))"
   ]
  },
  {
   "cell_type": "code",
   "execution_count": 133,
   "id": "90ee787e",
   "metadata": {},
   "outputs": [],
   "source": [
    "cm_multiclass_knn = confusion_matrix(y_test, predictions_knn_multiclass)"
   ]
  },
  {
   "cell_type": "code",
   "execution_count": 134,
   "id": "691002c3",
   "metadata": {},
   "outputs": [
    {
     "data": {
      "image/png": "[encoded data removed]",
      "text/plain": [
       "<Figure size 432x288 with 2 Axes>"
      ]
     },
     "metadata": {},
     "output_type": "display_data"
    }
   ],
   "source": [
    "cm_multiclass_knn_plot = ConfusionMatrixDisplay(cm_multiclass_knn).plot()"
   ]
  },
  {
   "cell_type": "code",
   "execution_count": 135,
   "id": "d2c08506",
   "metadata": {},
   "outputs": [],
   "source": [
    "from sklearn.ensemble import RandomForestClassifier"
   ]
  },
  {
   "cell_type": "code",
   "execution_count": 136,
   "id": "5fc7f76f",
   "metadata": {},
   "outputs": [
    {
     "data": {
      "text/html": [
       "<div>\n",
       "<style scoped>\n",
       "    .dataframe tbody tr th:only-of-type {\n",
       "        vertical-align: middle;\n",
       "    }\n",
       "\n",
       "    .dataframe tbody tr th {\n",
       "        vertical-align: top;\n",
       "    }\n",
       "\n",
       "    .dataframe thead th {\n",
       "        text-align: right;\n",
       "    }\n",
       "</style>\n",
       "<table border=\"1\" class=\"dataframe\">\n",
       "  <thead>\n",
       "    <tr style=\"text-align: right;\">\n",
       "      <th></th>\n",
       "      <th>Wife Age</th>\n",
       "      <th>Wife Education</th>\n",
       "      <th>Husband Education</th>\n",
       "      <th>Num Children</th>\n",
       "      <th>Wife Religion</th>\n",
       "      <th>Wife Working</th>\n",
       "      <th>Husband Occupation</th>\n",
       "      <th>Standard of Living</th>\n",
       "      <th>Media Exposure</th>\n",
       "      <th>Contraceptive Used</th>\n",
       "    </tr>\n",
       "  </thead>\n",
       "  <tbody>\n",
       "    <tr>\n",
       "      <th>0</th>\n",
       "      <td>24</td>\n",
       "      <td>2</td>\n",
       "      <td>3</td>\n",
       "      <td>3</td>\n",
       "      <td>1</td>\n",
       "      <td>1</td>\n",
       "      <td>2</td>\n",
       "      <td>3</td>\n",
       "      <td>0</td>\n",
       "      <td>0</td>\n",
       "    </tr>\n",
       "    <tr>\n",
       "      <th>1</th>\n",
       "      <td>45</td>\n",
       "      <td>1</td>\n",
       "      <td>3</td>\n",
       "      <td>10</td>\n",
       "      <td>1</td>\n",
       "      <td>1</td>\n",
       "      <td>3</td>\n",
       "      <td>4</td>\n",
       "      <td>0</td>\n",
       "      <td>0</td>\n",
       "    </tr>\n",
       "    <tr>\n",
       "      <th>2</th>\n",
       "      <td>43</td>\n",
       "      <td>2</td>\n",
       "      <td>3</td>\n",
       "      <td>7</td>\n",
       "      <td>1</td>\n",
       "      <td>1</td>\n",
       "      <td>3</td>\n",
       "      <td>4</td>\n",
       "      <td>0</td>\n",
       "      <td>0</td>\n",
       "    </tr>\n",
       "    <tr>\n",
       "      <th>3</th>\n",
       "      <td>42</td>\n",
       "      <td>3</td>\n",
       "      <td>2</td>\n",
       "      <td>9</td>\n",
       "      <td>1</td>\n",
       "      <td>1</td>\n",
       "      <td>3</td>\n",
       "      <td>3</td>\n",
       "      <td>0</td>\n",
       "      <td>0</td>\n",
       "    </tr>\n",
       "    <tr>\n",
       "      <th>4</th>\n",
       "      <td>36</td>\n",
       "      <td>3</td>\n",
       "      <td>3</td>\n",
       "      <td>8</td>\n",
       "      <td>1</td>\n",
       "      <td>1</td>\n",
       "      <td>3</td>\n",
       "      <td>2</td>\n",
       "      <td>0</td>\n",
       "      <td>0</td>\n",
       "    </tr>\n",
       "  </tbody>\n",
       "</table>\n",
       "</div>"
      ],
      "text/plain": [
       "   Wife Age  Wife Education  Husband Education  Num Children  Wife Religion  \\\n",
       "0        24               2                  3             3              1   \n",
       "1        45               1                  3            10              1   \n",
       "2        43               2                  3             7              1   \n",
       "3        42               3                  2             9              1   \n",
       "4        36               3                  3             8              1   \n",
       "\n",
       "   Wife Working  Husband Occupation  Standard of Living  Media Exposure  \\\n",
       "0             1                   2                   3               0   \n",
       "1             1                   3                   4               0   \n",
       "2             1                   3                   4               0   \n",
       "3             1                   3                   3               0   \n",
       "4             1                   3                   2               0   \n",
       "\n",
       "   Contraceptive Used  \n",
       "0                   0  \n",
       "1                   0  \n",
       "2                   0  \n",
       "3                   0  \n",
       "4                   0  "
      ]
     },
     "execution_count": 136,
     "metadata": {},
     "output_type": "execute_result"
    }
   ],
   "source": [
    "df.head()"
   ]
  },
  {
   "cell_type": "code",
   "execution_count": 137,
   "id": "d1426234",
   "metadata": {},
   "outputs": [],
   "source": [
    "rf_contraceptive = RandomForestClassifier(n_estimators = 200)"
   ]
  },
  {
   "cell_type": "code",
   "execution_count": 138,
   "id": "48096278",
   "metadata": {},
   "outputs": [
    {
     "data": {
      "text/plain": [
       "RandomForestClassifier(n_estimators=200)"
      ]
     },
     "execution_count": 138,
     "metadata": {},
     "output_type": "execute_result"
    }
   ],
   "source": [
    "rf_contraceptive.fit(X_train, y_train)"
   ]
  },
  {
   "cell_type": "code",
   "execution_count": 139,
   "id": "95fb6689",
   "metadata": {},
   "outputs": [],
   "source": [
    "predictions_rf_multiclass = rf_contraceptive.predict(X_test)"
   ]
  },
  {
   "cell_type": "code",
   "execution_count": 59,
   "id": "5763763c",
   "metadata": {},
   "outputs": [
    {
     "name": "stdout",
     "output_type": "stream",
     "text": [
      "              precision    recall  f1-score   support\n",
      "\n",
      "           1       0.67      0.62      0.65       210\n",
      "           2       0.34      0.48      0.40        73\n",
      "           3       0.50      0.46      0.48       159\n",
      "\n",
      "    accuracy                           0.54       442\n",
      "   macro avg       0.50      0.52      0.51       442\n",
      "weighted avg       0.56      0.54      0.54       442\n",
      "\n"
     ]
    }
   ],
   "source": [
    "print(classification_report(predictions_rf_multiclass, y_test))"
   ]
  },
  {
   "cell_type": "code",
   "execution_count": 60,
   "id": "a383df2e",
   "metadata": {},
   "outputs": [],
   "source": [
    "from sklearn.svm import SVC"
   ]
  },
  {
   "cell_type": "code",
   "execution_count": 61,
   "id": "bab84bf8",
   "metadata": {},
   "outputs": [],
   "source": [
    "contraceptive_svm = SVC()"
   ]
  },
  {
   "cell_type": "code",
   "execution_count": 62,
   "id": "39c6d18e",
   "metadata": {},
   "outputs": [
    {
     "data": {
      "text/plain": [
       "SVC()"
      ]
     },
     "execution_count": 62,
     "metadata": {},
     "output_type": "execute_result"
    }
   ],
   "source": [
    "contraceptive_svm.fit(X_train, y_train)"
   ]
  },
  {
   "cell_type": "code",
   "execution_count": 63,
   "id": "a86c1d6d",
   "metadata": {},
   "outputs": [],
   "source": [
    "predictions_svm_multiclass = rf_contraceptive.predict(X_test)"
   ]
  },
  {
   "cell_type": "code",
   "execution_count": 65,
   "id": "6d1f5b5f",
   "metadata": {},
   "outputs": [
    {
     "name": "stdout",
     "output_type": "stream",
     "text": [
      "              precision    recall  f1-score   support\n",
      "\n",
      "           1       0.67      0.62      0.65       210\n",
      "           2       0.34      0.48      0.40        73\n",
      "           3       0.50      0.46      0.48       159\n",
      "\n",
      "    accuracy                           0.54       442\n",
      "   macro avg       0.50      0.52      0.51       442\n",
      "weighted avg       0.56      0.54      0.54       442\n",
      "\n"
     ]
    }
   ],
   "source": [
    "print(classification_report(predictions_svm_multiclass, y_test))"
   ]
  },
  {
   "cell_type": "code",
   "execution_count": 188,
   "id": "ab89994a",
   "metadata": {},
   "outputs": [],
   "source": [
    "from tensorflow.keras.models import Sequential"
   ]
  },
  {
   "cell_type": "code",
   "execution_count": 189,
   "id": "d444a891",
   "metadata": {},
   "outputs": [],
   "source": [
    "from tensorflow.keras.layers import Dense,Activation,Dropout"
   ]
  },
  {
   "cell_type": "code",
   "execution_count": 190,
   "id": "21472c4f",
   "metadata": {},
   "outputs": [],
   "source": [
    "from sklearn.preprocessing import StandardScaler\n",
    "scaler = StandardScaler()"
   ]
  },
  {
   "cell_type": "code",
   "execution_count": 425,
   "id": "4f11f464",
   "metadata": {},
   "outputs": [
    {
     "data": {
      "text/html": [
       "<div>\n",
       "<style scoped>\n",
       "    .dataframe tbody tr th:only-of-type {\n",
       "        vertical-align: middle;\n",
       "    }\n",
       "\n",
       "    .dataframe tbody tr th {\n",
       "        vertical-align: top;\n",
       "    }\n",
       "\n",
       "    .dataframe thead th {\n",
       "        text-align: right;\n",
       "    }\n",
       "</style>\n",
       "<table border=\"1\" class=\"dataframe\">\n",
       "  <thead>\n",
       "    <tr style=\"text-align: right;\">\n",
       "      <th></th>\n",
       "      <th>Wife Age</th>\n",
       "      <th>Wife Education</th>\n",
       "      <th>Husband Education</th>\n",
       "      <th>Num Children</th>\n",
       "      <th>Wife Religion</th>\n",
       "      <th>Wife Working</th>\n",
       "      <th>Husband Occupation</th>\n",
       "      <th>Standard of Living</th>\n",
       "      <th>Media Exposure</th>\n",
       "    </tr>\n",
       "  </thead>\n",
       "  <tbody>\n",
       "    <tr>\n",
       "      <th>927</th>\n",
       "      <td>41</td>\n",
       "      <td>1</td>\n",
       "      <td>2</td>\n",
       "      <td>6</td>\n",
       "      <td>1</td>\n",
       "      <td>1</td>\n",
       "      <td>3</td>\n",
       "      <td>3</td>\n",
       "      <td>0</td>\n",
       "    </tr>\n",
       "    <tr>\n",
       "      <th>103</th>\n",
       "      <td>26</td>\n",
       "      <td>4</td>\n",
       "      <td>3</td>\n",
       "      <td>4</td>\n",
       "      <td>1</td>\n",
       "      <td>1</td>\n",
       "      <td>2</td>\n",
       "      <td>3</td>\n",
       "      <td>0</td>\n",
       "    </tr>\n",
       "    <tr>\n",
       "      <th>350</th>\n",
       "      <td>19</td>\n",
       "      <td>2</td>\n",
       "      <td>2</td>\n",
       "      <td>2</td>\n",
       "      <td>1</td>\n",
       "      <td>1</td>\n",
       "      <td>3</td>\n",
       "      <td>1</td>\n",
       "      <td>0</td>\n",
       "    </tr>\n",
       "    <tr>\n",
       "      <th>181</th>\n",
       "      <td>25</td>\n",
       "      <td>2</td>\n",
       "      <td>4</td>\n",
       "      <td>1</td>\n",
       "      <td>1</td>\n",
       "      <td>1</td>\n",
       "      <td>2</td>\n",
       "      <td>2</td>\n",
       "      <td>0</td>\n",
       "    </tr>\n",
       "    <tr>\n",
       "      <th>869</th>\n",
       "      <td>28</td>\n",
       "      <td>3</td>\n",
       "      <td>4</td>\n",
       "      <td>5</td>\n",
       "      <td>1</td>\n",
       "      <td>1</td>\n",
       "      <td>2</td>\n",
       "      <td>4</td>\n",
       "      <td>0</td>\n",
       "    </tr>\n",
       "    <tr>\n",
       "      <th>...</th>\n",
       "      <td>...</td>\n",
       "      <td>...</td>\n",
       "      <td>...</td>\n",
       "      <td>...</td>\n",
       "      <td>...</td>\n",
       "      <td>...</td>\n",
       "      <td>...</td>\n",
       "      <td>...</td>\n",
       "      <td>...</td>\n",
       "    </tr>\n",
       "    <tr>\n",
       "      <th>108</th>\n",
       "      <td>29</td>\n",
       "      <td>2</td>\n",
       "      <td>3</td>\n",
       "      <td>2</td>\n",
       "      <td>1</td>\n",
       "      <td>1</td>\n",
       "      <td>3</td>\n",
       "      <td>1</td>\n",
       "      <td>0</td>\n",
       "    </tr>\n",
       "    <tr>\n",
       "      <th>195</th>\n",
       "      <td>45</td>\n",
       "      <td>1</td>\n",
       "      <td>2</td>\n",
       "      <td>6</td>\n",
       "      <td>1</td>\n",
       "      <td>1</td>\n",
       "      <td>3</td>\n",
       "      <td>3</td>\n",
       "      <td>1</td>\n",
       "    </tr>\n",
       "    <tr>\n",
       "      <th>1025</th>\n",
       "      <td>33</td>\n",
       "      <td>4</td>\n",
       "      <td>4</td>\n",
       "      <td>2</td>\n",
       "      <td>0</td>\n",
       "      <td>1</td>\n",
       "      <td>1</td>\n",
       "      <td>4</td>\n",
       "      <td>0</td>\n",
       "    </tr>\n",
       "    <tr>\n",
       "      <th>1332</th>\n",
       "      <td>24</td>\n",
       "      <td>1</td>\n",
       "      <td>2</td>\n",
       "      <td>3</td>\n",
       "      <td>1</td>\n",
       "      <td>1</td>\n",
       "      <td>3</td>\n",
       "      <td>2</td>\n",
       "      <td>0</td>\n",
       "    </tr>\n",
       "    <tr>\n",
       "      <th>928</th>\n",
       "      <td>36</td>\n",
       "      <td>4</td>\n",
       "      <td>4</td>\n",
       "      <td>3</td>\n",
       "      <td>0</td>\n",
       "      <td>1</td>\n",
       "      <td>3</td>\n",
       "      <td>4</td>\n",
       "      <td>0</td>\n",
       "    </tr>\n",
       "  </tbody>\n",
       "</table>\n",
       "<p>1031 rows × 9 columns</p>\n",
       "</div>"
      ],
      "text/plain": [
       "      Wife Age  Wife Education  Husband Education  Num Children  \\\n",
       "927         41               1                  2             6   \n",
       "103         26               4                  3             4   \n",
       "350         19               2                  2             2   \n",
       "181         25               2                  4             1   \n",
       "869         28               3                  4             5   \n",
       "...        ...             ...                ...           ...   \n",
       "108         29               2                  3             2   \n",
       "195         45               1                  2             6   \n",
       "1025        33               4                  4             2   \n",
       "1332        24               1                  2             3   \n",
       "928         36               4                  4             3   \n",
       "\n",
       "      Wife Religion  Wife Working  Husband Occupation  Standard of Living  \\\n",
       "927               1             1                   3                   3   \n",
       "103               1             1                   2                   3   \n",
       "350               1             1                   3                   1   \n",
       "181               1             1                   2                   2   \n",
       "869               1             1                   2                   4   \n",
       "...             ...           ...                 ...                 ...   \n",
       "108               1             1                   3                   1   \n",
       "195               1             1                   3                   3   \n",
       "1025              0             1                   1                   4   \n",
       "1332              1             1                   3                   2   \n",
       "928               0             1                   3                   4   \n",
       "\n",
       "      Media Exposure  \n",
       "927                0  \n",
       "103                0  \n",
       "350                0  \n",
       "181                0  \n",
       "869                0  \n",
       "...              ...  \n",
       "108                0  \n",
       "195                1  \n",
       "1025               0  \n",
       "1332               0  \n",
       "928                0  \n",
       "\n",
       "[1031 rows x 9 columns]"
      ]
     },
     "execution_count": 425,
     "metadata": {},
     "output_type": "execute_result"
    }
   ],
   "source": [
    "X_train"
   ]
  },
  {
   "cell_type": "code",
   "execution_count": 426,
   "id": "b0a58fdf",
   "metadata": {},
   "outputs": [
    {
     "data": {
      "text/plain": [
       "(1031,)"
      ]
     },
     "execution_count": 426,
     "metadata": {},
     "output_type": "execute_result"
    }
   ],
   "source": [
    "y_train.shape"
   ]
  },
  {
   "cell_type": "code",
   "execution_count": 427,
   "id": "ec26d0a9",
   "metadata": {},
   "outputs": [],
   "source": [
    "X_train = scaler.fit_transform(X_train)\n",
    "X_test = scaler.fit_transform(X_test)"
   ]
  },
  {
   "cell_type": "code",
   "execution_count": 428,
   "id": "f6ea583d",
   "metadata": {},
   "outputs": [],
   "source": [
    "import tensorflow as tf"
   ]
  },
  {
   "cell_type": "code",
   "execution_count": 429,
   "id": "2701092b",
   "metadata": {},
   "outputs": [],
   "source": [
    "model = Sequential()"
   ]
  },
  {
   "cell_type": "code",
   "execution_count": 430,
   "id": "422d549a",
   "metadata": {},
   "outputs": [],
   "source": [
    "model.add(Dense(9, activation='relu'))"
   ]
  },
  {
   "cell_type": "code",
   "execution_count": 431,
   "id": "64a1b0f1",
   "metadata": {},
   "outputs": [],
   "source": [
    "model.add(Dropout(0.1))"
   ]
  },
  {
   "cell_type": "code",
   "execution_count": 432,
   "id": "cff4677e",
   "metadata": {},
   "outputs": [],
   "source": [
    "model.add(Dense(5, activation = 'relu'))"
   ]
  },
  {
   "cell_type": "code",
   "execution_count": 433,
   "id": "3781eb76",
   "metadata": {},
   "outputs": [],
   "source": [
    "model.add(Dropout(0.1))"
   ]
  },
  {
   "cell_type": "code",
   "execution_count": 434,
   "id": "5de58642",
   "metadata": {},
   "outputs": [],
   "source": [
    "model.add(Dense(3, activation = \"softmax\"))"
   ]
  },
  {
   "cell_type": "code",
   "execution_count": 435,
   "id": "590497b6",
   "metadata": {},
   "outputs": [],
   "source": [
    "model.compile(loss=\"sparse_categorical_crossentropy\", optimizer = \"adam\")"
   ]
  },
  {
   "cell_type": "code",
   "execution_count": 437,
   "id": "567486b0",
   "metadata": {},
   "outputs": [
    {
     "name": "stdout",
     "output_type": "stream",
     "text": [
      "Epoch 1/100\n",
      "33/33 [==============================] - 0s 2ms/step - loss: 1.0173\n",
      "Epoch 2/100\n",
      "33/33 [==============================] - 0s 3ms/step - loss: 1.0075\n",
      "Epoch 3/100\n",
      "33/33 [==============================] - 0s 2ms/step - loss: 1.0107\n",
      "Epoch 4/100\n",
      "33/33 [==============================] - 0s 2ms/step - loss: 0.9891\n",
      "Epoch 5/100\n",
      "33/33 [==============================] - 0s 2ms/step - loss: 1.0005\n",
      "Epoch 6/100\n",
      "33/33 [==============================] - 0s 2ms/step - loss: 0.9928\n",
      "Epoch 7/100\n",
      "33/33 [==============================] - 0s 2ms/step - loss: 0.9826\n",
      "Epoch 8/100\n",
      "33/33 [==============================] - 0s 2ms/step - loss: 0.9795\n",
      "Epoch 9/100\n",
      "33/33 [==============================] - 0s 2ms/step - loss: 0.9825\n",
      "Epoch 10/100\n",
      "33/33 [==============================] - 0s 2ms/step - loss: 0.9800\n",
      "Epoch 11/100\n",
      "33/33 [==============================] - 0s 2ms/step - loss: 0.9748\n",
      "Epoch 12/100\n",
      "33/33 [==============================] - 0s 2ms/step - loss: 0.9805\n",
      "Epoch 13/100\n",
      "33/33 [==============================] - 0s 2ms/step - loss: 0.9645\n",
      "Epoch 14/100\n",
      "33/33 [==============================] - 0s 2ms/step - loss: 0.9697\n",
      "Epoch 15/100\n",
      "33/33 [==============================] - 0s 2ms/step - loss: 0.9690\n",
      "Epoch 16/100\n",
      "33/33 [==============================] - 0s 2ms/step - loss: 0.9709\n",
      "Epoch 17/100\n",
      "33/33 [==============================] - 0s 2ms/step - loss: 0.9537\n",
      "Epoch 18/100\n",
      "33/33 [==============================] - 0s 2ms/step - loss: 0.9606\n",
      "Epoch 19/100\n",
      "33/33 [==============================] - 0s 2ms/step - loss: 0.9716\n",
      "Epoch 20/100\n",
      "33/33 [==============================] - 0s 2ms/step - loss: 0.9572\n",
      "Epoch 21/100\n",
      "33/33 [==============================] - 0s 2ms/step - loss: 0.9544\n",
      "Epoch 22/100\n",
      "33/33 [==============================] - 0s 2ms/step - loss: 0.9643\n",
      "Epoch 23/100\n",
      "33/33 [==============================] - 0s 2ms/step - loss: 0.9562\n",
      "Epoch 24/100\n",
      "33/33 [==============================] - 0s 2ms/step - loss: 0.9418\n",
      "Epoch 25/100\n",
      "33/33 [==============================] - 0s 2ms/step - loss: 0.9420\n",
      "Epoch 26/100\n",
      "33/33 [==============================] - 0s 2ms/step - loss: 0.9553\n",
      "Epoch 27/100\n",
      "33/33 [==============================] - 0s 2ms/step - loss: 0.9539\n",
      "Epoch 28/100\n",
      "33/33 [==============================] - 0s 2ms/step - loss: 0.9500\n",
      "Epoch 29/100\n",
      "33/33 [==============================] - 0s 2ms/step - loss: 0.9295\n",
      "Epoch 30/100\n",
      "33/33 [==============================] - 0s 2ms/step - loss: 0.9347\n",
      "Epoch 31/100\n",
      "33/33 [==============================] - 0s 2ms/step - loss: 0.9345\n",
      "Epoch 32/100\n",
      "33/33 [==============================] - 0s 2ms/step - loss: 0.9306\n",
      "Epoch 33/100\n",
      "33/33 [==============================] - 0s 2ms/step - loss: 0.9383\n",
      "Epoch 34/100\n",
      "33/33 [==============================] - 0s 2ms/step - loss: 0.9306\n",
      "Epoch 35/100\n",
      "33/33 [==============================] - 0s 2ms/step - loss: 0.9241\n",
      "Epoch 36/100\n",
      "33/33 [==============================] - 0s 2ms/step - loss: 0.9365\n",
      "Epoch 37/100\n",
      "33/33 [==============================] - 0s 2ms/step - loss: 0.9365\n",
      "Epoch 38/100\n",
      "33/33 [==============================] - 0s 2ms/step - loss: 0.9218\n",
      "Epoch 39/100\n",
      "33/33 [==============================] - 0s 2ms/step - loss: 0.9313\n",
      "Epoch 40/100\n",
      "33/33 [==============================] - 0s 2ms/step - loss: 0.9198\n",
      "Epoch 41/100\n",
      "33/33 [==============================] - 0s 2ms/step - loss: 0.9140\n",
      "Epoch 42/100\n",
      "33/33 [==============================] - 0s 2ms/step - loss: 0.9195\n",
      "Epoch 43/100\n",
      "33/33 [==============================] - 0s 2ms/step - loss: 0.9208\n",
      "Epoch 44/100\n",
      "33/33 [==============================] - 0s 2ms/step - loss: 0.9175\n",
      "Epoch 45/100\n",
      "33/33 [==============================] - 0s 2ms/step - loss: 0.9312\n",
      "Epoch 46/100\n",
      "33/33 [==============================] - 0s 1ms/step - loss: 0.9204\n",
      "Epoch 47/100\n",
      "33/33 [==============================] - 0s 2ms/step - loss: 0.9153\n",
      "Epoch 48/100\n",
      "33/33 [==============================] - 0s 2ms/step - loss: 0.9216\n",
      "Epoch 49/100\n",
      "33/33 [==============================] - 0s 3ms/step - loss: 0.9062\n",
      "Epoch 50/100\n",
      "33/33 [==============================] - 0s 3ms/step - loss: 0.8986\n",
      "Epoch 51/100\n",
      "33/33 [==============================] - ETA: 0s - loss: 0.910 - 0s 3ms/step - loss: 0.9195\n",
      "Epoch 52/100\n",
      "33/33 [==============================] - 0s 3ms/step - loss: 0.9099\n",
      "Epoch 53/100\n",
      "33/33 [==============================] - 0s 4ms/step - loss: 0.8995\n",
      "Epoch 54/100\n",
      "33/33 [==============================] - 0s 3ms/step - loss: 0.9069\n",
      "Epoch 55/100\n",
      "33/33 [==============================] - 0s 4ms/step - loss: 0.9013\n",
      "Epoch 56/100\n",
      "33/33 [==============================] - 0s 2ms/step - loss: 0.9060\n",
      "Epoch 57/100\n",
      "33/33 [==============================] - 0s 2ms/step - loss: 0.9149\n",
      "Epoch 58/100\n",
      "33/33 [==============================] - 0s 2ms/step - loss: 0.9043\n",
      "Epoch 59/100\n",
      "33/33 [==============================] - 0s 2ms/step - loss: 0.9045\n",
      "Epoch 60/100\n",
      "33/33 [==============================] - 0s 2ms/step - loss: 0.9011\n",
      "Epoch 61/100\n",
      "33/33 [==============================] - 0s 2ms/step - loss: 0.9047\n",
      "Epoch 62/100\n",
      "33/33 [==============================] - 0s 2ms/step - loss: 0.9045\n",
      "Epoch 63/100\n",
      "33/33 [==============================] - 0s 4ms/step - loss: 0.8997\n",
      "Epoch 64/100\n",
      "33/33 [==============================] - 0s 3ms/step - loss: 0.9021\n",
      "Epoch 65/100\n",
      "33/33 [==============================] - 0s 2ms/step - loss: 0.9196\n",
      "Epoch 66/100\n",
      "33/33 [==============================] - 0s 2ms/step - loss: 0.9021\n",
      "Epoch 67/100\n",
      "33/33 [==============================] - 0s 2ms/step - loss: 0.8972\n",
      "Epoch 68/100\n",
      "33/33 [==============================] - 0s 5ms/step - loss: 0.9150\n",
      "Epoch 69/100\n",
      "33/33 [==============================] - 0s 2ms/step - loss: 0.9045\n",
      "Epoch 70/100\n",
      "33/33 [==============================] - 0s 2ms/step - loss: 0.9055\n",
      "Epoch 71/100\n",
      "33/33 [==============================] - 0s 2ms/step - loss: 0.9018\n",
      "Epoch 72/100\n",
      "33/33 [==============================] - 0s 2ms/step - loss: 0.8905\n",
      "Epoch 73/100\n",
      "33/33 [==============================] - 0s 2ms/step - loss: 0.8867\n",
      "Epoch 74/100\n",
      "33/33 [==============================] - 0s 2ms/step - loss: 0.8989\n",
      "Epoch 75/100\n",
      "33/33 [==============================] - 0s 4ms/step - loss: 0.8905\n",
      "Epoch 76/100\n",
      "33/33 [==============================] - 0s 6ms/step - loss: 0.8948\n",
      "Epoch 77/100\n",
      "33/33 [==============================] - 0s 2ms/step - loss: 0.8959\n",
      "Epoch 78/100\n",
      "33/33 [==============================] - 0s 1ms/step - loss: 0.9006\n",
      "Epoch 79/100\n",
      "33/33 [==============================] - 0s 2ms/step - loss: 0.8960\n",
      "Epoch 80/100\n",
      "33/33 [==============================] - 0s 2ms/step - loss: 0.9042\n",
      "Epoch 81/100\n",
      "33/33 [==============================] - 0s 2ms/step - loss: 0.8905\n",
      "Epoch 82/100\n",
      "33/33 [==============================] - 0s 1ms/step - loss: 0.8984\n",
      "Epoch 83/100\n",
      "33/33 [==============================] - 0s 2ms/step - loss: 0.8880\n",
      "Epoch 84/100\n",
      "33/33 [==============================] - 0s 3ms/step - loss: 0.8976\n",
      "Epoch 85/100\n",
      "33/33 [==============================] - 0s 2ms/step - loss: 0.8912\n",
      "Epoch 86/100\n",
      "33/33 [==============================] - 0s 2ms/step - loss: 0.8895\n",
      "Epoch 87/100\n",
      "33/33 [==============================] - 0s 2ms/step - loss: 0.8785\n",
      "Epoch 88/100\n",
      "33/33 [==============================] - 0s 1ms/step - loss: 0.8871\n",
      "Epoch 89/100\n",
      "33/33 [==============================] - 0s 2ms/step - loss: 0.8933\n",
      "Epoch 90/100\n",
      "33/33 [==============================] - 0s 2ms/step - loss: 0.8979\n",
      "Epoch 91/100\n",
      "33/33 [==============================] - 0s 2ms/step - loss: 0.8861\n",
      "Epoch 92/100\n",
      "33/33 [==============================] - 0s 2ms/step - loss: 0.9011\n",
      "Epoch 93/100\n",
      "33/33 [==============================] - 0s 1ms/step - loss: 0.8873\n",
      "Epoch 94/100\n",
      "33/33 [==============================] - 0s 1ms/step - loss: 0.8913\n",
      "Epoch 95/100\n",
      "33/33 [==============================] - 0s 2ms/step - loss: 0.9047\n",
      "Epoch 96/100\n",
      "33/33 [==============================] - 0s 1ms/step - loss: 0.9030\n",
      "Epoch 97/100\n",
      "33/33 [==============================] - 0s 1ms/step - loss: 0.8940\n",
      "Epoch 98/100\n",
      "33/33 [==============================] - 0s 2ms/step - loss: 0.8966\n",
      "Epoch 99/100\n",
      "33/33 [==============================] - 0s 1ms/step - loss: 0.8898\n",
      "Epoch 100/100\n",
      "33/33 [==============================] - 0s 2ms/step - loss: 0.8900\n"
     ]
    },
    {
     "data": {
      "text/plain": [
       "<keras.callbacks.History at 0x152b87b6128>"
      ]
     },
     "execution_count": 437,
     "metadata": {},
     "output_type": "execute_result"
    }
   ],
   "source": [
    "model.fit(x=X_train, y=y_train, epochs=100)"
   ]
  },
  {
   "cell_type": "code",
   "execution_count": 438,
   "id": "d75d0b8c",
   "metadata": {},
   "outputs": [],
   "source": [
    "predictions = model.predict(X_test)"
   ]
  },
  {
   "cell_type": "code",
   "execution_count": 439,
   "id": "67dc346b",
   "metadata": {},
   "outputs": [
    {
     "data": {
      "text/plain": [
       "<seaborn.axisgrid.FacetGrid at 0x152b98d2128>"
      ]
     },
     "execution_count": 439,
     "metadata": {},
     "output_type": "execute_result"
    },
    {
     "data": {
      "image/png": "[encoded data removed]",
      "text/plain": [
       "<Figure size 405.725x360 with 1 Axes>"
      ]
     },
     "metadata": {},
     "output_type": "display_data"
    }
   ],
   "source": [
    "sns.displot(predictions)"
   ]
  },
  {
   "cell_type": "code",
   "execution_count": 441,
   "id": "f3ce0257",
   "metadata": {},
   "outputs": [
    {
     "data": {
      "text/plain": [
       "array([0.47197106, 0.04912692, 0.47890204], dtype=float32)"
      ]
     },
     "execution_count": 441,
     "metadata": {},
     "output_type": "execute_result"
    }
   ],
   "source": [
    "predictions[0]"
   ]
  },
  {
   "cell_type": "code",
   "execution_count": 442,
   "id": "4600e11b",
   "metadata": {},
   "outputs": [],
   "source": [
    "new_predictions = []\n",
    "for i in range(len(predictions)):\n",
    "    \n",
    "    if predictions[i][0] > predictions[i][1] and predictions[i][0] > predictions[i][2]:\n",
    "        \n",
    "        new_predictions.append(0)\n",
    "        \n",
    "    if predictions[i][1] > predictions[i][0] and predictions[i][1] > predictions[i][2]:\n",
    "        \n",
    "        new_predictions.append(1)\n",
    "        \n",
    "    if predictions[i][2] > predictions[i][0] and predictions[i][2] > predictions[i][1]:\n",
    "        \n",
    "        new_predictions.append(2)\n",
    "        \n",
    "        "
   ]
  },
  {
   "cell_type": "code",
   "execution_count": 443,
   "id": "72c08e2a",
   "metadata": {},
   "outputs": [
    {
     "data": {
      "text/plain": [
       "[2,\n",
       " 2,\n",
       " 0,\n",
       " 0,\n",
       " 2,\n",
       " 1,\n",
       " 2,\n",
       " 0,\n",
       " 0,\n",
       " 0,\n",
       " 1,\n",
       " 1,\n",
       " 1,\n",
       " 0,\n",
       " 2,\n",
       " 0,\n",
       " 2,\n",
       " 2,\n",
       " 0,\n",
       " 2,\n",
       " 0,\n",
       " 0,\n",
       " 2,\n",
       " 0,\n",
       " 2,\n",
       " 0,\n",
       " 2,\n",
       " 1,\n",
       " 2,\n",
       " 0,\n",
       " 2,\n",
       " 0,\n",
       " 2,\n",
       " 2,\n",
       " 0,\n",
       " 2,\n",
       " 0,\n",
       " 2,\n",
       " 0,\n",
       " 2,\n",
       " 2,\n",
       " 0,\n",
       " 0,\n",
       " 1,\n",
       " 0,\n",
       " 1,\n",
       " 0,\n",
       " 2,\n",
       " 2,\n",
       " 0,\n",
       " 2,\n",
       " 0,\n",
       " 2,\n",
       " 0,\n",
       " 0,\n",
       " 0,\n",
       " 0,\n",
       " 1,\n",
       " 0,\n",
       " 2,\n",
       " 2,\n",
       " 0,\n",
       " 2,\n",
       " 2,\n",
       " 0,\n",
       " 2,\n",
       " 0,\n",
       " 0,\n",
       " 2,\n",
       " 1,\n",
       " 0,\n",
       " 1,\n",
       " 1,\n",
       " 2,\n",
       " 0,\n",
       " 0,\n",
       " 0,\n",
       " 2,\n",
       " 1,\n",
       " 0,\n",
       " 0,\n",
       " 0,\n",
       " 0,\n",
       " 0,\n",
       " 0,\n",
       " 0,\n",
       " 2,\n",
       " 0,\n",
       " 0,\n",
       " 1,\n",
       " 2,\n",
       " 0,\n",
       " 2,\n",
       " 2,\n",
       " 1,\n",
       " 0,\n",
       " 1,\n",
       " 2,\n",
       " 2,\n",
       " 2,\n",
       " 0,\n",
       " 0,\n",
       " 0,\n",
       " 0,\n",
       " 1,\n",
       " 2,\n",
       " 0,\n",
       " 2,\n",
       " 0,\n",
       " 2,\n",
       " 0,\n",
       " 0,\n",
       " 0,\n",
       " 0,\n",
       " 2,\n",
       " 0,\n",
       " 2,\n",
       " 0,\n",
       " 0,\n",
       " 1,\n",
       " 2,\n",
       " 0,\n",
       " 1,\n",
       " 0,\n",
       " 0,\n",
       " 0,\n",
       " 0,\n",
       " 0,\n",
       " 2,\n",
       " 2,\n",
       " 0,\n",
       " 0,\n",
       " 1,\n",
       " 0,\n",
       " 2,\n",
       " 2,\n",
       " 2,\n",
       " 0,\n",
       " 2,\n",
       " 1,\n",
       " 0,\n",
       " 2,\n",
       " 0,\n",
       " 1,\n",
       " 0,\n",
       " 2,\n",
       " 2,\n",
       " 0,\n",
       " 0,\n",
       " 0,\n",
       " 2,\n",
       " 0,\n",
       " 1,\n",
       " 2,\n",
       " 2,\n",
       " 0,\n",
       " 1,\n",
       " 0,\n",
       " 0,\n",
       " 2,\n",
       " 1,\n",
       " 2,\n",
       " 0,\n",
       " 2,\n",
       " 1,\n",
       " 0,\n",
       " 2,\n",
       " 0,\n",
       " 1,\n",
       " 2,\n",
       " 1,\n",
       " 2,\n",
       " 0,\n",
       " 2,\n",
       " 0,\n",
       " 1,\n",
       " 0,\n",
       " 0,\n",
       " 0,\n",
       " 0,\n",
       " 1,\n",
       " 2,\n",
       " 1,\n",
       " 2,\n",
       " 2,\n",
       " 0,\n",
       " 0,\n",
       " 1,\n",
       " 2,\n",
       " 1,\n",
       " 0,\n",
       " 0,\n",
       " 1,\n",
       " 2,\n",
       " 1,\n",
       " 0,\n",
       " 0,\n",
       " 0,\n",
       " 0,\n",
       " 2,\n",
       " 0,\n",
       " 2,\n",
       " 2,\n",
       " 2,\n",
       " 2,\n",
       " 2,\n",
       " 0,\n",
       " 2,\n",
       " 2,\n",
       " 2,\n",
       " 1,\n",
       " 1,\n",
       " 2,\n",
       " 2,\n",
       " 2,\n",
       " 2,\n",
       " 2,\n",
       " 1,\n",
       " 2,\n",
       " 0,\n",
       " 0,\n",
       " 0,\n",
       " 0,\n",
       " 2,\n",
       " 0,\n",
       " 0,\n",
       " 1,\n",
       " 2,\n",
       " 2,\n",
       " 1,\n",
       " 1,\n",
       " 0,\n",
       " 2,\n",
       " 0,\n",
       " 0,\n",
       " 1,\n",
       " 0,\n",
       " 0,\n",
       " 0,\n",
       " 0,\n",
       " 2,\n",
       " 0,\n",
       " 0,\n",
       " 2,\n",
       " 2,\n",
       " 1,\n",
       " 2,\n",
       " 1,\n",
       " 1,\n",
       " 2,\n",
       " 2,\n",
       " 2,\n",
       " 0,\n",
       " 2,\n",
       " 1,\n",
       " 2,\n",
       " 1,\n",
       " 2,\n",
       " 0,\n",
       " 0,\n",
       " 0,\n",
       " 2,\n",
       " 2,\n",
       " 1,\n",
       " 0,\n",
       " 0,\n",
       " 2,\n",
       " 0,\n",
       " 0,\n",
       " 2,\n",
       " 0,\n",
       " 2,\n",
       " 2,\n",
       " 2,\n",
       " 0,\n",
       " 2,\n",
       " 0,\n",
       " 0,\n",
       " 0,\n",
       " 2,\n",
       " 0,\n",
       " 0,\n",
       " 2,\n",
       " 2,\n",
       " 0,\n",
       " 2,\n",
       " 0,\n",
       " 2,\n",
       " 2,\n",
       " 2,\n",
       " 0,\n",
       " 0,\n",
       " 2,\n",
       " 2,\n",
       " 2,\n",
       " 0,\n",
       " 2,\n",
       " 0,\n",
       " 0,\n",
       " 0,\n",
       " 2,\n",
       " 1,\n",
       " 0,\n",
       " 1,\n",
       " 2,\n",
       " 1,\n",
       " 0,\n",
       " 2,\n",
       " 2,\n",
       " 2,\n",
       " 2,\n",
       " 0,\n",
       " 2,\n",
       " 2,\n",
       " 2,\n",
       " 2,\n",
       " 0,\n",
       " 0,\n",
       " 0,\n",
       " 0,\n",
       " 0,\n",
       " 2,\n",
       " 0,\n",
       " 2,\n",
       " 0,\n",
       " 2,\n",
       " 1,\n",
       " 0,\n",
       " 2,\n",
       " 2,\n",
       " 0,\n",
       " 0,\n",
       " 1,\n",
       " 2,\n",
       " 1,\n",
       " 2,\n",
       " 1,\n",
       " 2,\n",
       " 1,\n",
       " 0,\n",
       " 1,\n",
       " 1,\n",
       " 2,\n",
       " 0,\n",
       " 0,\n",
       " 2,\n",
       " 2,\n",
       " 1,\n",
       " 0,\n",
       " 2,\n",
       " 0,\n",
       " 2,\n",
       " 2,\n",
       " 0,\n",
       " 0,\n",
       " 2,\n",
       " 0,\n",
       " 0,\n",
       " 0,\n",
       " 0,\n",
       " 1,\n",
       " 0,\n",
       " 2,\n",
       " 2,\n",
       " 0,\n",
       " 0,\n",
       " 2,\n",
       " 0,\n",
       " 1,\n",
       " 0,\n",
       " 2,\n",
       " 0,\n",
       " 0,\n",
       " 0,\n",
       " 0,\n",
       " 1,\n",
       " 0,\n",
       " 2,\n",
       " 0,\n",
       " 0,\n",
       " 0,\n",
       " 2,\n",
       " 2,\n",
       " 2,\n",
       " 2,\n",
       " 2,\n",
       " 2,\n",
       " 0,\n",
       " 1,\n",
       " 2,\n",
       " 0,\n",
       " 2,\n",
       " 2,\n",
       " 2,\n",
       " 0,\n",
       " 0,\n",
       " 2,\n",
       " 1,\n",
       " 2,\n",
       " 0,\n",
       " 1,\n",
       " 0,\n",
       " 0,\n",
       " 0,\n",
       " 1,\n",
       " 0,\n",
       " 0,\n",
       " 0,\n",
       " 0,\n",
       " 0,\n",
       " 0,\n",
       " 0,\n",
       " 2,\n",
       " 0,\n",
       " 2,\n",
       " 0,\n",
       " 1,\n",
       " 0,\n",
       " 2,\n",
       " 2,\n",
       " 0,\n",
       " 0,\n",
       " 2,\n",
       " 0,\n",
       " 0,\n",
       " 0,\n",
       " 2,\n",
       " 2,\n",
       " 2,\n",
       " 0,\n",
       " 1,\n",
       " 2,\n",
       " 2,\n",
       " 2,\n",
       " 2,\n",
       " 1,\n",
       " 0,\n",
       " 2,\n",
       " 0,\n",
       " 0,\n",
       " 0,\n",
       " 1]"
      ]
     },
     "execution_count": 443,
     "metadata": {},
     "output_type": "execute_result"
    }
   ],
   "source": [
    "new_predictions"
   ]
  },
  {
   "cell_type": "code",
   "execution_count": 444,
   "id": "011e4cc8",
   "metadata": {},
   "outputs": [
    {
     "name": "stdout",
     "output_type": "stream",
     "text": [
      "              precision    recall  f1-score   support\n",
      "\n",
      "           0       0.68      0.58      0.62       202\n",
      "           1       0.32      0.52      0.40        69\n",
      "           2       0.53      0.48      0.50       171\n",
      "\n",
      "    accuracy                           0.53       442\n",
      "   macro avg       0.51      0.53      0.51       442\n",
      "weighted avg       0.56      0.53      0.54       442\n",
      "\n"
     ]
    }
   ],
   "source": [
    "print(classification_report(new_predictions,y_test))"
   ]
  },
  {
   "cell_type": "code",
   "execution_count": 191,
   "id": "44d520ef",
   "metadata": {},
   "outputs": [],
   "source": [
    "model_binary = Sequential()"
   ]
  },
  {
   "cell_type": "code",
   "execution_count": 192,
   "id": "a47074c7",
   "metadata": {},
   "outputs": [],
   "source": [
    "model_binary.add(Dense(9, activation='relu'))"
   ]
  },
  {
   "cell_type": "code",
   "execution_count": 193,
   "id": "25e1b7ad",
   "metadata": {},
   "outputs": [],
   "source": [
    "model_binary.add(Dropout(0.1))"
   ]
  },
  {
   "cell_type": "code",
   "execution_count": 194,
   "id": "6c12023c",
   "metadata": {},
   "outputs": [],
   "source": [
    "model_binary.add(Dense(5,activation='relu'))"
   ]
  },
  {
   "cell_type": "code",
   "execution_count": 195,
   "id": "04593a3a",
   "metadata": {},
   "outputs": [],
   "source": [
    "model_binary.add(Dropout(0.1))"
   ]
  },
  {
   "cell_type": "code",
   "execution_count": 196,
   "id": "fe355aef",
   "metadata": {},
   "outputs": [],
   "source": [
    "model_binary.add(Dense(1,activation='sigmoid'))"
   ]
  },
  {
   "cell_type": "code",
   "execution_count": 197,
   "id": "c33340e8",
   "metadata": {},
   "outputs": [],
   "source": [
    "model_binary.compile(loss='binary_crossentropy', optimizer='adam')"
   ]
  },
  {
   "cell_type": "code",
   "execution_count": 198,
   "id": "cb418050",
   "metadata": {},
   "outputs": [],
   "source": [
    "scaler_binary = StandardScaler()"
   ]
  },
  {
   "cell_type": "code",
   "execution_count": 199,
   "id": "2bcc70e5",
   "metadata": {},
   "outputs": [],
   "source": [
    "X_train = scaler_binary.fit_transform(X_train)\n",
    "X_test = scaler_binary.fit_transform(X_test)"
   ]
  },
  {
   "cell_type": "code",
   "execution_count": 200,
   "id": "1ca810f1",
   "metadata": {},
   "outputs": [
    {
     "name": "stdout",
     "output_type": "stream",
     "text": [
      "Epoch 1/100\n",
      "33/33 [==============================] - 1s 2ms/step - loss: 0.6918\n",
      "Epoch 2/100\n",
      "33/33 [==============================] - 0s 2ms/step - loss: 0.6841\n",
      "Epoch 3/100\n",
      "33/33 [==============================] - 0s 2ms/step - loss: 0.6759\n",
      "Epoch 4/100\n",
      "33/33 [==============================] - 0s 2ms/step - loss: 0.6754\n",
      "Epoch 5/100\n",
      "33/33 [==============================] - 0s 2ms/step - loss: 0.6731\n",
      "Epoch 6/100\n",
      "33/33 [==============================] - 0s 2ms/step - loss: 0.6694\n",
      "Epoch 7/100\n",
      "33/33 [==============================] - 0s 2ms/step - loss: 0.6631\n",
      "Epoch 8/100\n",
      "33/33 [==============================] - 0s 2ms/step - loss: 0.6625\n",
      "Epoch 9/100\n",
      "33/33 [==============================] - 0s 2ms/step - loss: 0.6590\n",
      "Epoch 10/100\n",
      "33/33 [==============================] - 0s 2ms/step - loss: 0.6506\n",
      "Epoch 11/100\n",
      "33/33 [==============================] - 0s 2ms/step - loss: 0.6424\n",
      "Epoch 12/100\n",
      "33/33 [==============================] - 0s 2ms/step - loss: 0.6411\n",
      "Epoch 13/100\n",
      "33/33 [==============================] - 0s 2ms/step - loss: 0.6419\n",
      "Epoch 14/100\n",
      "33/33 [==============================] - 0s 2ms/step - loss: 0.6319\n",
      "Epoch 15/100\n",
      "33/33 [==============================] - 0s 2ms/step - loss: 0.6203\n",
      "Epoch 16/100\n",
      "33/33 [==============================] - 0s 2ms/step - loss: 0.6198\n",
      "Epoch 17/100\n",
      "33/33 [==============================] - 0s 2ms/step - loss: 0.6166\n",
      "Epoch 18/100\n",
      "33/33 [==============================] - 0s 2ms/step - loss: 0.5985\n",
      "Epoch 19/100\n",
      "33/33 [==============================] - 0s 2ms/step - loss: 0.6049\n",
      "Epoch 20/100\n",
      "33/33 [==============================] - 0s 2ms/step - loss: 0.5951\n",
      "Epoch 21/100\n",
      "33/33 [==============================] - 0s 2ms/step - loss: 0.5998\n",
      "Epoch 22/100\n",
      "33/33 [==============================] - 0s 2ms/step - loss: 0.5873\n",
      "Epoch 23/100\n",
      "33/33 [==============================] - 0s 2ms/step - loss: 0.5945\n",
      "Epoch 24/100\n",
      "33/33 [==============================] - 0s 2ms/step - loss: 0.5808\n",
      "Epoch 25/100\n",
      "33/33 [==============================] - 0s 2ms/step - loss: 0.5796\n",
      "Epoch 26/100\n",
      "33/33 [==============================] - 0s 2ms/step - loss: 0.5861\n",
      "Epoch 27/100\n",
      "33/33 [==============================] - 0s 2ms/step - loss: 0.5840\n",
      "Epoch 28/100\n",
      "33/33 [==============================] - 0s 2ms/step - loss: 0.5788\n",
      "Epoch 29/100\n",
      "33/33 [==============================] - 0s 2ms/step - loss: 0.5843\n",
      "Epoch 30/100\n",
      "33/33 [==============================] - 0s 2ms/step - loss: 0.5774\n",
      "Epoch 31/100\n",
      "33/33 [==============================] - 0s 3ms/step - loss: 0.5749\n",
      "Epoch 32/100\n",
      "33/33 [==============================] - 0s 3ms/step - loss: 0.5672\n",
      "Epoch 33/100\n",
      "33/33 [==============================] - 0s 2ms/step - loss: 0.5894\n",
      "Epoch 34/100\n",
      "33/33 [==============================] - 0s 2ms/step - loss: 0.5673\n",
      "Epoch 35/100\n",
      "33/33 [==============================] - 0s 2ms/step - loss: 0.5683\n",
      "Epoch 36/100\n",
      "33/33 [==============================] - 0s 2ms/step - loss: 0.5687\n",
      "Epoch 37/100\n",
      "33/33 [==============================] - 0s 2ms/step - loss: 0.5718\n",
      "Epoch 38/100\n",
      "33/33 [==============================] - 0s 2ms/step - loss: 0.5702\n",
      "Epoch 39/100\n",
      "33/33 [==============================] - 0s 1ms/step - loss: 0.5699\n",
      "Epoch 40/100\n",
      "33/33 [==============================] - 0s 1ms/step - loss: 0.5601\n",
      "Epoch 41/100\n",
      "33/33 [==============================] - 0s 1ms/step - loss: 0.5670\n",
      "Epoch 42/100\n",
      "33/33 [==============================] - 0s 1ms/step - loss: 0.5575\n",
      "Epoch 43/100\n",
      "33/33 [==============================] - 0s 2ms/step - loss: 0.5697\n",
      "Epoch 44/100\n",
      "33/33 [==============================] - 0s 2ms/step - loss: 0.5609\n",
      "Epoch 45/100\n",
      "33/33 [==============================] - 0s 1ms/step - loss: 0.5666\n",
      "Epoch 46/100\n",
      "33/33 [==============================] - 0s 1ms/step - loss: 0.5678\n",
      "Epoch 47/100\n",
      "33/33 [==============================] - 0s 2ms/step - loss: 0.5660\n",
      "Epoch 48/100\n",
      "33/33 [==============================] - 0s 2ms/step - loss: 0.5714\n",
      "Epoch 49/100\n",
      "33/33 [==============================] - 0s 2ms/step - loss: 0.5523\n",
      "Epoch 50/100\n",
      "33/33 [==============================] - 0s 1ms/step - loss: 0.5487\n",
      "Epoch 51/100\n",
      "33/33 [==============================] - 0s 1ms/step - loss: 0.5634\n",
      "Epoch 52/100\n",
      "33/33 [==============================] - 0s 2ms/step - loss: 0.5598\n",
      "Epoch 53/100\n",
      "33/33 [==============================] - 0s 2ms/step - loss: 0.5660\n",
      "Epoch 54/100\n",
      "33/33 [==============================] - 0s 2ms/step - loss: 0.5624\n",
      "Epoch 55/100\n",
      "33/33 [==============================] - 0s 2ms/step - loss: 0.5659\n",
      "Epoch 56/100\n",
      "33/33 [==============================] - 0s 2ms/step - loss: 0.5574\n",
      "Epoch 57/100\n",
      "33/33 [==============================] - 0s 2ms/step - loss: 0.5563\n",
      "Epoch 58/100\n",
      "33/33 [==============================] - 0s 2ms/step - loss: 0.5630\n",
      "Epoch 59/100\n",
      "33/33 [==============================] - 0s 3ms/step - loss: 0.5547\n",
      "Epoch 60/100\n",
      "33/33 [==============================] - 0s 4ms/step - loss: 0.5672\n",
      "Epoch 61/100\n",
      "33/33 [==============================] - 0s 4ms/step - loss: 0.5646\n",
      "Epoch 62/100\n",
      "33/33 [==============================] - 0s 3ms/step - loss: 0.5582\n",
      "Epoch 63/100\n",
      "33/33 [==============================] - 0s 4ms/step - loss: 0.5597\n",
      "Epoch 64/100\n",
      "33/33 [==============================] - 0s 4ms/step - loss: 0.5613\n",
      "Epoch 65/100\n",
      "33/33 [==============================] - 0s 4ms/step - loss: 0.5555\n",
      "Epoch 66/100\n",
      "33/33 [==============================] - 0s 2ms/step - loss: 0.5676\n",
      "Epoch 67/100\n",
      "33/33 [==============================] - 0s 2ms/step - loss: 0.5610\n",
      "Epoch 68/100\n",
      "33/33 [==============================] - 0s 2ms/step - loss: 0.5607\n",
      "Epoch 69/100\n",
      "33/33 [==============================] - 0s 3ms/step - loss: 0.5573\n",
      "Epoch 70/100\n",
      "33/33 [==============================] - 0s 3ms/step - loss: 0.5543\n",
      "Epoch 71/100\n",
      "33/33 [==============================] - 0s 2ms/step - loss: 0.5450\n",
      "Epoch 72/100\n",
      "33/33 [==============================] - 0s 4ms/step - loss: 0.5536\n",
      "Epoch 73/100\n",
      "33/33 [==============================] - 0s 3ms/step - loss: 0.5625\n",
      "Epoch 74/100\n",
      "33/33 [==============================] - 0s 2ms/step - loss: 0.5582\n",
      "Epoch 75/100\n",
      "33/33 [==============================] - 0s 2ms/step - loss: 0.5540\n",
      "Epoch 76/100\n",
      "33/33 [==============================] - 0s 5ms/step - loss: 0.5497\n",
      "Epoch 77/100\n",
      "33/33 [==============================] - 0s 2ms/step - loss: 0.5560\n",
      "Epoch 78/100\n",
      "33/33 [==============================] - 0s 2ms/step - loss: 0.5492\n",
      "Epoch 79/100\n",
      "33/33 [==============================] - 0s 2ms/step - loss: 0.5581\n",
      "Epoch 80/100\n",
      "33/33 [==============================] - 0s 2ms/step - loss: 0.5505\n",
      "Epoch 81/100\n",
      "33/33 [==============================] - 0s 4ms/step - loss: 0.5545A: 0s - loss: 0.54\n",
      "Epoch 82/100\n",
      "33/33 [==============================] - 0s 4ms/step - loss: 0.5528\n",
      "Epoch 83/100\n",
      "33/33 [==============================] - 0s 2ms/step - loss: 0.5552\n",
      "Epoch 84/100\n",
      "33/33 [==============================] - 0s 2ms/step - loss: 0.5492\n",
      "Epoch 85/100\n",
      "33/33 [==============================] - 0s 2ms/step - loss: 0.5518\n",
      "Epoch 86/100\n",
      "33/33 [==============================] - 0s 2ms/step - loss: 0.5498\n",
      "Epoch 87/100\n",
      "33/33 [==============================] - 0s 2ms/step - loss: 0.5570\n",
      "Epoch 88/100\n",
      "33/33 [==============================] - 0s 1ms/step - loss: 0.5646\n",
      "Epoch 89/100\n",
      "33/33 [==============================] - 0s 2ms/step - loss: 0.5541\n",
      "Epoch 90/100\n",
      "33/33 [==============================] - 0s 2ms/step - loss: 0.5546\n",
      "Epoch 91/100\n",
      "33/33 [==============================] - 0s 1ms/step - loss: 0.5571\n",
      "Epoch 92/100\n",
      "33/33 [==============================] - 0s 2ms/step - loss: 0.5453\n",
      "Epoch 93/100\n",
      "33/33 [==============================] - 0s 1ms/step - loss: 0.5498\n",
      "Epoch 94/100\n",
      "33/33 [==============================] - 0s 2ms/step - loss: 0.5404\n",
      "Epoch 95/100\n",
      "33/33 [==============================] - 0s 1ms/step - loss: 0.5469\n",
      "Epoch 96/100\n",
      "33/33 [==============================] - 0s 2ms/step - loss: 0.5576\n",
      "Epoch 97/100\n",
      "33/33 [==============================] - 0s 3ms/step - loss: 0.5417\n",
      "Epoch 98/100\n",
      "33/33 [==============================] - 0s 4ms/step - loss: 0.5421\n",
      "Epoch 99/100\n",
      "33/33 [==============================] - 0s 2ms/step - loss: 0.5471\n",
      "Epoch 100/100\n",
      "33/33 [==============================] - 0s 2ms/step - loss: 0.5584\n"
     ]
    },
    {
     "data": {
      "text/plain": [
       "<keras.callbacks.History at 0x17e8bf5fbe0>"
      ]
     },
     "execution_count": 200,
     "metadata": {},
     "output_type": "execute_result"
    }
   ],
   "source": [
    "model_binary.fit(x=X_train, y=y_train, epochs = 100)"
   ]
  },
  {
   "cell_type": "code",
   "execution_count": 201,
   "id": "8a849391",
   "metadata": {},
   "outputs": [],
   "source": [
    "predictions = model_binary.predict(X_test)"
   ]
  },
  {
   "cell_type": "code",
   "execution_count": 202,
   "id": "7fb55dcf",
   "metadata": {},
   "outputs": [
    {
     "data": {
      "text/plain": [
       "array([[0.7490547 ],\n",
       "       [0.33707115],\n",
       "       [0.79908514],\n",
       "       [0.11138102],\n",
       "       [0.1535855 ],\n",
       "       [0.33352125],\n",
       "       [0.8024205 ],\n",
       "       [0.7356926 ],\n",
       "       [0.72363186],\n",
       "       [0.7081163 ],\n",
       "       [0.8700018 ],\n",
       "       [0.7841378 ],\n",
       "       [0.80087316],\n",
       "       [0.08576038],\n",
       "       [0.04316646],\n",
       "       [0.6936494 ],\n",
       "       [0.25809646],\n",
       "       [0.7643449 ],\n",
       "       [0.22988254],\n",
       "       [0.5741558 ],\n",
       "       [0.5155889 ],\n",
       "       [0.7395022 ],\n",
       "       [0.7030576 ],\n",
       "       [0.8059441 ],\n",
       "       [0.30059448],\n",
       "       [0.61943865],\n",
       "       [0.1857022 ],\n",
       "       [0.4080733 ],\n",
       "       [0.75835764],\n",
       "       [0.5742977 ],\n",
       "       [0.735897  ],\n",
       "       [0.50690913],\n",
       "       [0.05670533],\n",
       "       [0.06010634],\n",
       "       [0.81537575],\n",
       "       [0.6712077 ],\n",
       "       [0.86518884],\n",
       "       [0.85729617],\n",
       "       [0.7146952 ],\n",
       "       [0.10203514],\n",
       "       [0.80068326],\n",
       "       [0.6206845 ],\n",
       "       [0.69488347],\n",
       "       [0.6549318 ],\n",
       "       [0.44678915],\n",
       "       [0.7187815 ],\n",
       "       [0.83633804],\n",
       "       [0.10842064],\n",
       "       [0.46879688],\n",
       "       [0.749111  ],\n",
       "       [0.5120432 ],\n",
       "       [0.0704588 ],\n",
       "       [0.59175813],\n",
       "       [0.40920347],\n",
       "       [0.8495172 ],\n",
       "       [0.16024679],\n",
       "       [0.50571847],\n",
       "       [0.5888804 ],\n",
       "       [0.51709145],\n",
       "       [0.26753226],\n",
       "       [0.66615725],\n",
       "       [0.6217812 ],\n",
       "       [0.8067074 ],\n",
       "       [0.62570477],\n",
       "       [0.86688215],\n",
       "       [0.83160114],\n",
       "       [0.19645664],\n",
       "       [0.53788084],\n",
       "       [0.7791084 ],\n",
       "       [0.81158924],\n",
       "       [0.5701804 ],\n",
       "       [0.54440725],\n",
       "       [0.45091552],\n",
       "       [0.06384456],\n",
       "       [0.5447292 ],\n",
       "       [0.67799383],\n",
       "       [0.7644558 ],\n",
       "       [0.26587516],\n",
       "       [0.71178067],\n",
       "       [0.5087593 ],\n",
       "       [0.7878051 ],\n",
       "       [0.47163624],\n",
       "       [0.46439165],\n",
       "       [0.5668583 ],\n",
       "       [0.22769135],\n",
       "       [0.01762274],\n",
       "       [0.78241616],\n",
       "       [0.35003108],\n",
       "       [0.04814115],\n",
       "       [0.5238815 ],\n",
       "       [0.6343303 ],\n",
       "       [0.3318265 ],\n",
       "       [0.863029  ],\n",
       "       [0.1928617 ],\n",
       "       [0.47417182],\n",
       "       [0.69235617],\n",
       "       [0.83567154],\n",
       "       [0.85470796],\n",
       "       [0.4708799 ],\n",
       "       [0.7881398 ],\n",
       "       [0.7428033 ],\n",
       "       [0.04873148],\n",
       "       [0.6645765 ],\n",
       "       [0.7371471 ],\n",
       "       [0.8599657 ],\n",
       "       [0.68372697],\n",
       "       [0.6197151 ],\n",
       "       [0.4249143 ],\n",
       "       [0.50201106],\n",
       "       [0.81503284],\n",
       "       [0.32963246],\n",
       "       [0.6586584 ],\n",
       "       [0.74605334],\n",
       "       [0.8503157 ],\n",
       "       [0.6697493 ],\n",
       "       [0.60076284],\n",
       "       [0.21647441],\n",
       "       [0.8497125 ],\n",
       "       [0.4748595 ],\n",
       "       [0.36685786],\n",
       "       [0.73103726],\n",
       "       [0.21677557],\n",
       "       [0.6374306 ],\n",
       "       [0.71267843],\n",
       "       [0.32414663],\n",
       "       [0.53958744],\n",
       "       [0.48091102],\n",
       "       [0.25018248],\n",
       "       [0.627407  ],\n",
       "       [0.8344122 ],\n",
       "       [0.7592456 ],\n",
       "       [0.69745827],\n",
       "       [0.19959459],\n",
       "       [0.76330566],\n",
       "       [0.7015924 ],\n",
       "       [0.16623509],\n",
       "       [0.86107194],\n",
       "       [0.40904737],\n",
       "       [0.71277547],\n",
       "       [0.12096363],\n",
       "       [0.7144416 ],\n",
       "       [0.6128182 ],\n",
       "       [0.71207654],\n",
       "       [0.6236462 ],\n",
       "       [0.6845135 ],\n",
       "       [0.80866754],\n",
       "       [0.4711052 ],\n",
       "       [0.58394915],\n",
       "       [0.8005883 ],\n",
       "       [0.69731677],\n",
       "       [0.78620064],\n",
       "       [0.62719417],\n",
       "       [0.41933402],\n",
       "       [0.20715523],\n",
       "       [0.81337446],\n",
       "       [0.7503581 ],\n",
       "       [0.30251616],\n",
       "       [0.66565704],\n",
       "       [0.88868934],\n",
       "       [0.6456561 ],\n",
       "       [0.7344958 ],\n",
       "       [0.4112505 ],\n",
       "       [0.7082484 ],\n",
       "       [0.37115002],\n",
       "       [0.4231772 ],\n",
       "       [0.5496589 ],\n",
       "       [0.5748848 ],\n",
       "       [0.8415644 ],\n",
       "       [0.359398  ],\n",
       "       [0.7219543 ],\n",
       "       [0.66101366],\n",
       "       [0.12851784],\n",
       "       [0.65337515],\n",
       "       [0.57442796],\n",
       "       [0.88900465],\n",
       "       [0.20462483],\n",
       "       [0.11216602],\n",
       "       [0.8599657 ],\n",
       "       [0.66731954],\n",
       "       [0.45781606],\n",
       "       [0.41243768],\n",
       "       [0.63862574],\n",
       "       [0.51963717],\n",
       "       [0.36083   ],\n",
       "       [0.55619013],\n",
       "       [0.12638953],\n",
       "       [0.7963952 ],\n",
       "       [0.80039823],\n",
       "       [0.71078444],\n",
       "       [0.62737894],\n",
       "       [0.7933636 ],\n",
       "       [0.12192145],\n",
       "       [0.7049302 ],\n",
       "       [0.5007019 ],\n",
       "       [0.5492541 ],\n",
       "       [0.70407987],\n",
       "       [0.82587934],\n",
       "       [0.4220614 ],\n",
       "       [0.6207304 ],\n",
       "       [0.8746249 ],\n",
       "       [0.90150946],\n",
       "       [0.7657635 ],\n",
       "       [0.08907434],\n",
       "       [0.26987618],\n",
       "       [0.83637905],\n",
       "       [0.4039957 ],\n",
       "       [0.71463925],\n",
       "       [0.24711362],\n",
       "       [0.30006903],\n",
       "       [0.6741733 ],\n",
       "       [0.5561458 ],\n",
       "       [0.8178211 ],\n",
       "       [0.86213815],\n",
       "       [0.65477955],\n",
       "       [0.85470796],\n",
       "       [0.8380815 ],\n",
       "       [0.70796645],\n",
       "       [0.07852265],\n",
       "       [0.5319247 ],\n",
       "       [0.7454295 ],\n",
       "       [0.64893925],\n",
       "       [0.59616315],\n",
       "       [0.84361774],\n",
       "       [0.20607272],\n",
       "       [0.8405304 ],\n",
       "       [0.69627714],\n",
       "       [0.4751971 ],\n",
       "       [0.5751309 ],\n",
       "       [0.38992536],\n",
       "       [0.28435445],\n",
       "       [0.6949996 ],\n",
       "       [0.6425653 ],\n",
       "       [0.66806304],\n",
       "       [0.8168267 ],\n",
       "       [0.8651215 ],\n",
       "       [0.7079877 ],\n",
       "       [0.67914534],\n",
       "       [0.60705644],\n",
       "       [0.822478  ],\n",
       "       [0.84299195],\n",
       "       [0.6487463 ],\n",
       "       [0.84603137],\n",
       "       [0.4435534 ],\n",
       "       [0.83902717],\n",
       "       [0.721712  ],\n",
       "       [0.71908975],\n",
       "       [0.8251779 ],\n",
       "       [0.6041226 ],\n",
       "       [0.7710892 ],\n",
       "       [0.6574095 ],\n",
       "       [0.46262994],\n",
       "       [0.5967084 ],\n",
       "       [0.76095617],\n",
       "       [0.48576063],\n",
       "       [0.8388453 ],\n",
       "       [0.7786213 ],\n",
       "       [0.73110104],\n",
       "       [0.73408765],\n",
       "       [0.12339094],\n",
       "       [0.67196864],\n",
       "       [0.16279462],\n",
       "       [0.34355158],\n",
       "       [0.41413617],\n",
       "       [0.66908216],\n",
       "       [0.66368866],\n",
       "       [0.65261066],\n",
       "       [0.6384814 ],\n",
       "       [0.25609887],\n",
       "       [0.78275424],\n",
       "       [0.71978647],\n",
       "       [0.51023746],\n",
       "       [0.36921862],\n",
       "       [0.82452905],\n",
       "       [0.84086806],\n",
       "       [0.52395153],\n",
       "       [0.83658725],\n",
       "       [0.71078444],\n",
       "       [0.585243  ],\n",
       "       [0.61421734],\n",
       "       [0.74524367],\n",
       "       [0.1705218 ],\n",
       "       [0.07989156],\n",
       "       [0.7943382 ],\n",
       "       [0.32854763],\n",
       "       [0.06681508],\n",
       "       [0.76416427],\n",
       "       [0.18911108],\n",
       "       [0.64540446],\n",
       "       [0.6235957 ],\n",
       "       [0.5652448 ],\n",
       "       [0.8777662 ],\n",
       "       [0.6697343 ],\n",
       "       [0.23347655],\n",
       "       [0.6138581 ],\n",
       "       [0.61372346],\n",
       "       [0.510944  ],\n",
       "       [0.64248544],\n",
       "       [0.7607126 ],\n",
       "       [0.77743614],\n",
       "       [0.25435764],\n",
       "       [0.88765657],\n",
       "       [0.20796257],\n",
       "       [0.21559876],\n",
       "       [0.8714528 ],\n",
       "       [0.12271863],\n",
       "       [0.5367149 ],\n",
       "       [0.15997413],\n",
       "       [0.6449316 ],\n",
       "       [0.7543466 ],\n",
       "       [0.6733578 ],\n",
       "       [0.21667221],\n",
       "       [0.70733976],\n",
       "       [0.3200065 ],\n",
       "       [0.31408894],\n",
       "       [0.16928998],\n",
       "       [0.84965456],\n",
       "       [0.788794  ],\n",
       "       [0.14193046],\n",
       "       [0.31504405],\n",
       "       [0.46686348],\n",
       "       [0.14167488],\n",
       "       [0.19648117],\n",
       "       [0.7994582 ],\n",
       "       [0.41794318],\n",
       "       [0.82885444],\n",
       "       [0.77761877],\n",
       "       [0.7055676 ],\n",
       "       [0.80145395],\n",
       "       [0.8527461 ],\n",
       "       [0.22845241],\n",
       "       [0.21132216],\n",
       "       [0.83290815],\n",
       "       [0.7057262 ],\n",
       "       [0.44694188],\n",
       "       [0.7817089 ],\n",
       "       [0.749944  ],\n",
       "       [0.59994876],\n",
       "       [0.7015226 ],\n",
       "       [0.49989915],\n",
       "       [0.73710907],\n",
       "       [0.66344357],\n",
       "       [0.48371947],\n",
       "       [0.48829493],\n",
       "       [0.54175377],\n",
       "       [0.60566956],\n",
       "       [0.70715666],\n",
       "       [0.81788266],\n",
       "       [0.8225609 ],\n",
       "       [0.7004493 ],\n",
       "       [0.8184223 ],\n",
       "       [0.5123359 ],\n",
       "       [0.3599512 ],\n",
       "       [0.5875545 ],\n",
       "       [0.13558704],\n",
       "       [0.5852728 ],\n",
       "       [0.44518173],\n",
       "       [0.8244436 ],\n",
       "       [0.35347527],\n",
       "       [0.8178772 ],\n",
       "       [0.8388454 ],\n",
       "       [0.14725637],\n",
       "       [0.06785324],\n",
       "       [0.615103  ],\n",
       "       [0.66881204],\n",
       "       [0.722519  ],\n",
       "       [0.5899482 ],\n",
       "       [0.56913626],\n",
       "       [0.07076859],\n",
       "       [0.34966075],\n",
       "       [0.6903355 ],\n",
       "       [0.01087627],\n",
       "       [0.65877175],\n",
       "       [0.56296337],\n",
       "       [0.6730691 ],\n",
       "       [0.71797585],\n",
       "       [0.6875826 ],\n",
       "       [0.8506548 ],\n",
       "       [0.46158364],\n",
       "       [0.6155441 ],\n",
       "       [0.67122805],\n",
       "       [0.7933757 ],\n",
       "       [0.73305357],\n",
       "       [0.74161106],\n",
       "       [0.04220462],\n",
       "       [0.6143145 ],\n",
       "       [0.49209166],\n",
       "       [0.7526627 ],\n",
       "       [0.89510334],\n",
       "       [0.85471165],\n",
       "       [0.37904847],\n",
       "       [0.25811252],\n",
       "       [0.7012259 ],\n",
       "       [0.7784278 ],\n",
       "       [0.05838993],\n",
       "       [0.6745871 ],\n",
       "       [0.7686635 ],\n",
       "       [0.1610606 ],\n",
       "       [0.64917   ],\n",
       "       [0.7457136 ],\n",
       "       [0.33926463],\n",
       "       [0.5704359 ],\n",
       "       [0.7206365 ],\n",
       "       [0.7448169 ],\n",
       "       [0.7031244 ],\n",
       "       [0.6673909 ],\n",
       "       [0.3341486 ],\n",
       "       [0.65520597],\n",
       "       [0.35390353],\n",
       "       [0.8621552 ],\n",
       "       [0.5980905 ],\n",
       "       [0.22901905],\n",
       "       [0.86614275],\n",
       "       [0.71082044],\n",
       "       [0.87868345],\n",
       "       [0.7076323 ],\n",
       "       [0.66621876],\n",
       "       [0.7690649 ],\n",
       "       [0.64418304],\n",
       "       [0.80049324],\n",
       "       [0.28151718],\n",
       "       [0.07971185],\n",
       "       [0.57592916],\n",
       "       [0.7461156 ],\n",
       "       [0.41995573],\n",
       "       [0.304912  ],\n",
       "       [0.04177234],\n",
       "       [0.51078296],\n",
       "       [0.58371824],\n",
       "       [0.6704442 ],\n",
       "       [0.77095544],\n",
       "       [0.68149775],\n",
       "       [0.8637493 ],\n",
       "       [0.3053116 ],\n",
       "       [0.80030316],\n",
       "       [0.61125433],\n",
       "       [0.7442041 ],\n",
       "       [0.8019438 ],\n",
       "       [0.6546616 ],\n",
       "       [0.5847756 ],\n",
       "       [0.24372113],\n",
       "       [0.05678636],\n",
       "       [0.6506462 ]], dtype=float32)"
      ]
     },
     "execution_count": 202,
     "metadata": {},
     "output_type": "execute_result"
    }
   ],
   "source": [
    "predictions"
   ]
  },
  {
   "cell_type": "code",
   "execution_count": 203,
   "id": "db17f65b",
   "metadata": {},
   "outputs": [],
   "source": [
    "official_predictions = []\n",
    "for i in range(len(predictions)):\n",
    "    \n",
    "    if predictions[i][0] >= 0.5:\n",
    "        \n",
    "        official_predictions.append(1)\n",
    "        \n",
    "    else:\n",
    "        \n",
    "        official_predictions.append(0)\n",
    "    "
   ]
  },
  {
   "cell_type": "code",
   "execution_count": 204,
   "id": "0b6fc9d4",
   "metadata": {},
   "outputs": [
    {
     "data": {
      "text/plain": [
       "[1,\n",
       " 0,\n",
       " 1,\n",
       " 0,\n",
       " 0,\n",
       " 0,\n",
       " 1,\n",
       " 1,\n",
       " 1,\n",
       " 1,\n",
       " 1,\n",
       " 1,\n",
       " 1,\n",
       " 0,\n",
       " 0,\n",
       " 1,\n",
       " 0,\n",
       " 1,\n",
       " 0,\n",
       " 1,\n",
       " 1,\n",
       " 1,\n",
       " 1,\n",
       " 1,\n",
       " 0,\n",
       " 1,\n",
       " 0,\n",
       " 0,\n",
       " 1,\n",
       " 1,\n",
       " 1,\n",
       " 1,\n",
       " 0,\n",
       " 0,\n",
       " 1,\n",
       " 1,\n",
       " 1,\n",
       " 1,\n",
       " 1,\n",
       " 0,\n",
       " 1,\n",
       " 1,\n",
       " 1,\n",
       " 1,\n",
       " 0,\n",
       " 1,\n",
       " 1,\n",
       " 0,\n",
       " 0,\n",
       " 1,\n",
       " 1,\n",
       " 0,\n",
       " 1,\n",
       " 0,\n",
       " 1,\n",
       " 0,\n",
       " 1,\n",
       " 1,\n",
       " 1,\n",
       " 0,\n",
       " 1,\n",
       " 1,\n",
       " 1,\n",
       " 1,\n",
       " 1,\n",
       " 1,\n",
       " 0,\n",
       " 1,\n",
       " 1,\n",
       " 1,\n",
       " 1,\n",
       " 1,\n",
       " 0,\n",
       " 0,\n",
       " 1,\n",
       " 1,\n",
       " 1,\n",
       " 0,\n",
       " 1,\n",
       " 1,\n",
       " 1,\n",
       " 0,\n",
       " 0,\n",
       " 1,\n",
       " 0,\n",
       " 0,\n",
       " 1,\n",
       " 0,\n",
       " 0,\n",
       " 1,\n",
       " 1,\n",
       " 0,\n",
       " 1,\n",
       " 0,\n",
       " 0,\n",
       " 1,\n",
       " 1,\n",
       " 1,\n",
       " 0,\n",
       " 1,\n",
       " 1,\n",
       " 0,\n",
       " 1,\n",
       " 1,\n",
       " 1,\n",
       " 1,\n",
       " 1,\n",
       " 0,\n",
       " 1,\n",
       " 1,\n",
       " 0,\n",
       " 1,\n",
       " 1,\n",
       " 1,\n",
       " 1,\n",
       " 1,\n",
       " 0,\n",
       " 1,\n",
       " 0,\n",
       " 0,\n",
       " 1,\n",
       " 0,\n",
       " 1,\n",
       " 1,\n",
       " 0,\n",
       " 1,\n",
       " 0,\n",
       " 0,\n",
       " 1,\n",
       " 1,\n",
       " 1,\n",
       " 1,\n",
       " 0,\n",
       " 1,\n",
       " 1,\n",
       " 0,\n",
       " 1,\n",
       " 0,\n",
       " 1,\n",
       " 0,\n",
       " 1,\n",
       " 1,\n",
       " 1,\n",
       " 1,\n",
       " 1,\n",
       " 1,\n",
       " 0,\n",
       " 1,\n",
       " 1,\n",
       " 1,\n",
       " 1,\n",
       " 1,\n",
       " 0,\n",
       " 0,\n",
       " 1,\n",
       " 1,\n",
       " 0,\n",
       " 1,\n",
       " 1,\n",
       " 1,\n",
       " 1,\n",
       " 0,\n",
       " 1,\n",
       " 0,\n",
       " 0,\n",
       " 1,\n",
       " 1,\n",
       " 1,\n",
       " 0,\n",
       " 1,\n",
       " 1,\n",
       " 0,\n",
       " 1,\n",
       " 1,\n",
       " 1,\n",
       " 0,\n",
       " 0,\n",
       " 1,\n",
       " 1,\n",
       " 0,\n",
       " 0,\n",
       " 1,\n",
       " 1,\n",
       " 0,\n",
       " 1,\n",
       " 0,\n",
       " 1,\n",
       " 1,\n",
       " 1,\n",
       " 1,\n",
       " 1,\n",
       " 0,\n",
       " 1,\n",
       " 1,\n",
       " 1,\n",
       " 1,\n",
       " 1,\n",
       " 0,\n",
       " 1,\n",
       " 1,\n",
       " 1,\n",
       " 1,\n",
       " 0,\n",
       " 0,\n",
       " 1,\n",
       " 0,\n",
       " 1,\n",
       " 0,\n",
       " 0,\n",
       " 1,\n",
       " 1,\n",
       " 1,\n",
       " 1,\n",
       " 1,\n",
       " 1,\n",
       " 1,\n",
       " 1,\n",
       " 0,\n",
       " 1,\n",
       " 1,\n",
       " 1,\n",
       " 1,\n",
       " 1,\n",
       " 0,\n",
       " 1,\n",
       " 1,\n",
       " 0,\n",
       " 1,\n",
       " 0,\n",
       " 0,\n",
       " 1,\n",
       " 1,\n",
       " 1,\n",
       " 1,\n",
       " 1,\n",
       " 1,\n",
       " 1,\n",
       " 1,\n",
       " 1,\n",
       " 1,\n",
       " 1,\n",
       " 1,\n",
       " 0,\n",
       " 1,\n",
       " 1,\n",
       " 1,\n",
       " 1,\n",
       " 1,\n",
       " 1,\n",
       " 1,\n",
       " 0,\n",
       " 1,\n",
       " 1,\n",
       " 0,\n",
       " 1,\n",
       " 1,\n",
       " 1,\n",
       " 1,\n",
       " 0,\n",
       " 1,\n",
       " 0,\n",
       " 0,\n",
       " 0,\n",
       " 1,\n",
       " 1,\n",
       " 1,\n",
       " 1,\n",
       " 0,\n",
       " 1,\n",
       " 1,\n",
       " 1,\n",
       " 0,\n",
       " 1,\n",
       " 1,\n",
       " 1,\n",
       " 1,\n",
       " 1,\n",
       " 1,\n",
       " 1,\n",
       " 1,\n",
       " 0,\n",
       " 0,\n",
       " 1,\n",
       " 0,\n",
       " 0,\n",
       " 1,\n",
       " 0,\n",
       " 1,\n",
       " 1,\n",
       " 1,\n",
       " 1,\n",
       " 1,\n",
       " 0,\n",
       " 1,\n",
       " 1,\n",
       " 1,\n",
       " 1,\n",
       " 1,\n",
       " 1,\n",
       " 0,\n",
       " 1,\n",
       " 0,\n",
       " 0,\n",
       " 1,\n",
       " 0,\n",
       " 1,\n",
       " 0,\n",
       " 1,\n",
       " 1,\n",
       " 1,\n",
       " 0,\n",
       " 1,\n",
       " 0,\n",
       " 0,\n",
       " 0,\n",
       " 1,\n",
       " 1,\n",
       " 0,\n",
       " 0,\n",
       " 0,\n",
       " 0,\n",
       " 0,\n",
       " 1,\n",
       " 0,\n",
       " 1,\n",
       " 1,\n",
       " 1,\n",
       " 1,\n",
       " 1,\n",
       " 0,\n",
       " 0,\n",
       " 1,\n",
       " 1,\n",
       " 0,\n",
       " 1,\n",
       " 1,\n",
       " 1,\n",
       " 1,\n",
       " 0,\n",
       " 1,\n",
       " 1,\n",
       " 0,\n",
       " 0,\n",
       " 1,\n",
       " 1,\n",
       " 1,\n",
       " 1,\n",
       " 1,\n",
       " 1,\n",
       " 1,\n",
       " 1,\n",
       " 0,\n",
       " 1,\n",
       " 0,\n",
       " 1,\n",
       " 0,\n",
       " 1,\n",
       " 0,\n",
       " 1,\n",
       " 1,\n",
       " 0,\n",
       " 0,\n",
       " 1,\n",
       " 1,\n",
       " 1,\n",
       " 1,\n",
       " 1,\n",
       " 0,\n",
       " 0,\n",
       " 1,\n",
       " 0,\n",
       " 1,\n",
       " 1,\n",
       " 1,\n",
       " 1,\n",
       " 1,\n",
       " 1,\n",
       " 0,\n",
       " 1,\n",
       " 1,\n",
       " 1,\n",
       " 1,\n",
       " 1,\n",
       " 0,\n",
       " 1,\n",
       " 0,\n",
       " 1,\n",
       " 1,\n",
       " 1,\n",
       " 0,\n",
       " 0,\n",
       " 1,\n",
       " 1,\n",
       " 0,\n",
       " 1,\n",
       " 1,\n",
       " 0,\n",
       " 1,\n",
       " 1,\n",
       " 0,\n",
       " 1,\n",
       " 1,\n",
       " 1,\n",
       " 1,\n",
       " 1,\n",
       " 0,\n",
       " 1,\n",
       " 0,\n",
       " 1,\n",
       " 1,\n",
       " 0,\n",
       " 1,\n",
       " 1,\n",
       " 1,\n",
       " 1,\n",
       " 1,\n",
       " 1,\n",
       " 1,\n",
       " 1,\n",
       " 0,\n",
       " 0,\n",
       " 1,\n",
       " 1,\n",
       " 0,\n",
       " 0,\n",
       " 0,\n",
       " 1,\n",
       " 1,\n",
       " 1,\n",
       " 1,\n",
       " 1,\n",
       " 1,\n",
       " 0,\n",
       " 1,\n",
       " 1,\n",
       " 1,\n",
       " 1,\n",
       " 1,\n",
       " 1,\n",
       " 0,\n",
       " 0,\n",
       " 1]"
      ]
     },
     "execution_count": 204,
     "metadata": {},
     "output_type": "execute_result"
    }
   ],
   "source": [
    "official_predictions"
   ]
  },
  {
   "cell_type": "code",
   "execution_count": 205,
   "id": "2e4b58a2",
   "metadata": {},
   "outputs": [
    {
     "name": "stdout",
     "output_type": "stream",
     "text": [
      "              precision    recall  f1-score   support\n",
      "\n",
      "           0       0.55      0.72      0.62       140\n",
      "           1       0.85      0.73      0.78       302\n",
      "\n",
      "    accuracy                           0.72       442\n",
      "   macro avg       0.70      0.72      0.70       442\n",
      "weighted avg       0.75      0.72      0.73       442\n",
      "\n"
     ]
    }
   ],
   "source": [
    "print(classification_report(official_predictions, y_test))"
   ]
  },
  {
   "cell_type": "code",
   "execution_count": 207,
   "id": "61fb4e63",
   "metadata": {},
   "outputs": [],
   "source": [
    "cm = confusion_matrix(official_predictions, y_test)"
   ]
  },
  {
   "cell_type": "code",
   "execution_count": 208,
   "id": "7e1fd63f",
   "metadata": {},
   "outputs": [
    {
     "data": {
      "image/png": "[encoded data removed]",
      "text/plain": [
       "<Figure size 432x288 with 2 Axes>"
      ]
     },
     "metadata": {},
     "output_type": "display_data"
    }
   ],
   "source": [
    "cm_plot = ConfusionMatrixDisplay(cm).plot()"
   ]
  },
  {
   "cell_type": "code",
   "execution_count": 610,
   "id": "ccb60f78",
   "metadata": {},
   "outputs": [],
   "source": [
    "from sklearn.neighbors import KNeighborsClassifier"
   ]
  },
  {
   "cell_type": "code",
   "execution_count": 611,
   "id": "152280db",
   "metadata": {},
   "outputs": [],
   "source": [
    "knn = KNeighborsClassifier(n_neighbors = 9)"
   ]
  },
  {
   "cell_type": "code",
   "execution_count": 612,
   "id": "ec53989e",
   "metadata": {},
   "outputs": [
    {
     "data": {
      "text/plain": [
       "KNeighborsClassifier(n_neighbors=9)"
      ]
     },
     "execution_count": 612,
     "metadata": {},
     "output_type": "execute_result"
    }
   ],
   "source": [
    "knn.fit(X_train, y_train)"
   ]
  },
  {
   "cell_type": "code",
   "execution_count": 613,
   "id": "ecf2563b",
   "metadata": {},
   "outputs": [],
   "source": [
    "predictions = knn.predict(X_test)"
   ]
  },
  {
   "cell_type": "code",
   "execution_count": 614,
   "id": "c791d93d",
   "metadata": {},
   "outputs": [
    {
     "name": "stdout",
     "output_type": "stream",
     "text": [
      "              precision    recall  f1-score   support\n",
      "\n",
      "           0       0.48      0.73      0.58       133\n",
      "           1       0.85      0.66      0.75       309\n",
      "\n",
      "    accuracy                           0.68       442\n",
      "   macro avg       0.67      0.70      0.66       442\n",
      "weighted avg       0.74      0.68      0.70       442\n",
      "\n"
     ]
    }
   ],
   "source": [
    "print(classification_report(predictions, y_test))"
   ]
  },
  {
   "cell_type": "code",
   "execution_count": 615,
   "id": "7e77c5aa",
   "metadata": {},
   "outputs": [],
   "source": [
    "from sklearn.ensemble import RandomForestClassifier"
   ]
  },
  {
   "cell_type": "code",
   "execution_count": 616,
   "id": "ba495f48",
   "metadata": {},
   "outputs": [],
   "source": [
    "rf = RandomForestClassifier()"
   ]
  },
  {
   "cell_type": "code",
   "execution_count": 617,
   "id": "9d72052c",
   "metadata": {},
   "outputs": [
    {
     "data": {
      "text/plain": [
       "RandomForestClassifier()"
      ]
     },
     "execution_count": 617,
     "metadata": {},
     "output_type": "execute_result"
    }
   ],
   "source": [
    "rf.fit(X_train, y_train)"
   ]
  },
  {
   "cell_type": "code",
   "execution_count": 618,
   "id": "78258c1d",
   "metadata": {},
   "outputs": [],
   "source": [
    "predictions = rf.predict(X_test)"
   ]
  },
  {
   "cell_type": "code",
   "execution_count": 619,
   "id": "e19e5d17",
   "metadata": {},
   "outputs": [
    {
     "name": "stdout",
     "output_type": "stream",
     "text": [
      "              precision    recall  f1-score   support\n",
      "\n",
      "           0       0.58      0.67      0.62       174\n",
      "           1       0.76      0.68      0.72       268\n",
      "\n",
      "    accuracy                           0.68       442\n",
      "   macro avg       0.67      0.67      0.67       442\n",
      "weighted avg       0.69      0.68      0.68       442\n",
      "\n"
     ]
    }
   ],
   "source": [
    "print(classification_report(predictions, y_test))"
   ]
  },
  {
   "cell_type": "code",
   "execution_count": 77,
   "id": "03d82f7e",
   "metadata": {
    "scrolled": true
   },
   "outputs": [
    {
     "data": {
      "text/plain": [
       "(1473, 10)"
      ]
     },
     "execution_count": 77,
     "metadata": {},
     "output_type": "execute_result"
    }
   ],
   "source": [
    "df.shape"
   ]
  },
  {
   "cell_type": "code",
   "execution_count": null,
   "id": "280d3507",
   "metadata": {},
   "outputs": [],
   "source": []
  }
 ],
 "metadata": {
  "kernelspec": {
   "display_name": "Python 3",
   "language": "python",
   "name": "python3"
  },
  "language_info": {
   "codemirror_mode": {
    "name": "ipython",
    "version": 3
   },
   "file_extension": ".py",
   "mimetype": "text/x-python",
   "name": "python",
   "nbconvert_exporter": "python",
   "pygments_lexer": "ipython3",
   "version": "3.6.13"
  }
 },
 "nbformat": 4,
 "nbformat_minor": 5
}
